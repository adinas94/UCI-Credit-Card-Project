{
 "cells": [
  {
   "cell_type": "markdown",
   "metadata": {},
   "source": [
    "### Data Cleaning"
   ]
  },
  {
   "cell_type": "code",
   "execution_count": 1,
   "metadata": {},
   "outputs": [],
   "source": [
    "#import necessary libraries\n",
    "\n",
    "import pandas as pd\n",
    "import numpy as np\n",
    "import seaborn as sns\n",
    "import matplotlib.pyplot as plt\n",
    "%matplotlib inline\n",
    "from time import time\n",
    "import re\n",
    "from numpy.random import normal\n",
    "from scipy.stats import kurtosis, skew\n",
    "import math\n",
    "from statsmodels.formula.api import ols\n",
    "from statsmodels.stats.outliers_influence import variance_inflation_factor\n",
    "import statsmodels.api as sm\n",
    "import scipy.stats as stats\n",
    "from sklearn import tree\n",
    "from sklearn.model_selection import train_test_split, cross_val_score, GridSearchCV\n",
    "from sklearn.linear_model import LinearRegression, LogisticRegression\n",
    "from sklearn.metrics import roc_curve, auc, plot_confusion_matrix, mean_squared_error, mean_absolute_error, classification_report, precision_score, recall_score, accuracy_score, f1_score\n",
    "from sklearn.preprocessing import StandardScaler\n",
    "from sklearn.neighbors import KNeighborsClassifier\n",
    "from sklearn.naive_bayes import GaussianNB\n",
    "from sklearn.tree import DecisionTreeRegressor, DecisionTreeClassifier, export_graphviz\n",
    "from sklearn.svm import SVC\n",
    "from sklearn.ensemble import RandomForestClassifier, BaggingClassifier, AdaBoostClassifier, GradientBoostingClassifier\n",
    "from six import StringIO \n",
    "from xgboost import XGBClassifier\n",
    "from sklearn.pipeline import Pipeline\n",
    "from IPython.display import Image\n",
    "import pydotplus\n",
    "import warnings\n",
    "warnings.filterwarnings('ignore')\n",
    "df = pd.read_csv('UCI_Credit_Card.csv')"
   ]
  },
  {
   "cell_type": "code",
   "execution_count": 2,
   "metadata": {},
   "outputs": [
    {
     "name": "stdout",
     "output_type": "stream",
     "text": [
      "<class 'pandas.core.frame.DataFrame'>\n",
      "RangeIndex: 30000 entries, 0 to 29999\n",
      "Data columns (total 25 columns):\n",
      "ID                            30000 non-null int64\n",
      "LIMIT_BAL                     30000 non-null float64\n",
      "SEX                           30000 non-null int64\n",
      "EDUCATION                     30000 non-null int64\n",
      "MARRIAGE                      30000 non-null int64\n",
      "AGE                           30000 non-null int64\n",
      "PAY_0                         30000 non-null int64\n",
      "PAY_2                         30000 non-null int64\n",
      "PAY_3                         30000 non-null int64\n",
      "PAY_4                         30000 non-null int64\n",
      "PAY_5                         30000 non-null int64\n",
      "PAY_6                         30000 non-null int64\n",
      "BILL_AMT1                     30000 non-null float64\n",
      "BILL_AMT2                     30000 non-null float64\n",
      "BILL_AMT3                     30000 non-null float64\n",
      "BILL_AMT4                     30000 non-null float64\n",
      "BILL_AMT5                     30000 non-null float64\n",
      "BILL_AMT6                     30000 non-null float64\n",
      "PAY_AMT1                      30000 non-null float64\n",
      "PAY_AMT2                      30000 non-null float64\n",
      "PAY_AMT3                      30000 non-null float64\n",
      "PAY_AMT4                      30000 non-null float64\n",
      "PAY_AMT5                      30000 non-null float64\n",
      "PAY_AMT6                      30000 non-null float64\n",
      "default.payment.next.month    30000 non-null int64\n",
      "dtypes: float64(13), int64(12)\n",
      "memory usage: 5.7 MB\n"
     ]
    }
   ],
   "source": [
    "df.info()"
   ]
  },
  {
   "cell_type": "code",
   "execution_count": 3,
   "metadata": {},
   "outputs": [
    {
     "data": {
      "text/html": [
       "<div>\n",
       "<style scoped>\n",
       "    .dataframe tbody tr th:only-of-type {\n",
       "        vertical-align: middle;\n",
       "    }\n",
       "\n",
       "    .dataframe tbody tr th {\n",
       "        vertical-align: top;\n",
       "    }\n",
       "\n",
       "    .dataframe thead th {\n",
       "        text-align: right;\n",
       "    }\n",
       "</style>\n",
       "<table border=\"1\" class=\"dataframe\">\n",
       "  <thead>\n",
       "    <tr style=\"text-align: right;\">\n",
       "      <th></th>\n",
       "      <th>ID</th>\n",
       "      <th>LIMIT_BAL</th>\n",
       "      <th>SEX</th>\n",
       "      <th>EDUCATION</th>\n",
       "      <th>MARRIAGE</th>\n",
       "      <th>AGE</th>\n",
       "      <th>PAY_0</th>\n",
       "      <th>PAY_2</th>\n",
       "      <th>PAY_3</th>\n",
       "      <th>PAY_4</th>\n",
       "      <th>...</th>\n",
       "      <th>BILL_AMT4</th>\n",
       "      <th>BILL_AMT5</th>\n",
       "      <th>BILL_AMT6</th>\n",
       "      <th>PAY_AMT1</th>\n",
       "      <th>PAY_AMT2</th>\n",
       "      <th>PAY_AMT3</th>\n",
       "      <th>PAY_AMT4</th>\n",
       "      <th>PAY_AMT5</th>\n",
       "      <th>PAY_AMT6</th>\n",
       "      <th>default.payment.next.month</th>\n",
       "    </tr>\n",
       "  </thead>\n",
       "  <tbody>\n",
       "    <tr>\n",
       "      <th>0</th>\n",
       "      <td>1</td>\n",
       "      <td>20000.0</td>\n",
       "      <td>2</td>\n",
       "      <td>2</td>\n",
       "      <td>1</td>\n",
       "      <td>24</td>\n",
       "      <td>2</td>\n",
       "      <td>2</td>\n",
       "      <td>-1</td>\n",
       "      <td>-1</td>\n",
       "      <td>...</td>\n",
       "      <td>0.0</td>\n",
       "      <td>0.0</td>\n",
       "      <td>0.0</td>\n",
       "      <td>0.0</td>\n",
       "      <td>689.0</td>\n",
       "      <td>0.0</td>\n",
       "      <td>0.0</td>\n",
       "      <td>0.0</td>\n",
       "      <td>0.0</td>\n",
       "      <td>1</td>\n",
       "    </tr>\n",
       "    <tr>\n",
       "      <th>1</th>\n",
       "      <td>2</td>\n",
       "      <td>120000.0</td>\n",
       "      <td>2</td>\n",
       "      <td>2</td>\n",
       "      <td>2</td>\n",
       "      <td>26</td>\n",
       "      <td>-1</td>\n",
       "      <td>2</td>\n",
       "      <td>0</td>\n",
       "      <td>0</td>\n",
       "      <td>...</td>\n",
       "      <td>3272.0</td>\n",
       "      <td>3455.0</td>\n",
       "      <td>3261.0</td>\n",
       "      <td>0.0</td>\n",
       "      <td>1000.0</td>\n",
       "      <td>1000.0</td>\n",
       "      <td>1000.0</td>\n",
       "      <td>0.0</td>\n",
       "      <td>2000.0</td>\n",
       "      <td>1</td>\n",
       "    </tr>\n",
       "    <tr>\n",
       "      <th>2</th>\n",
       "      <td>3</td>\n",
       "      <td>90000.0</td>\n",
       "      <td>2</td>\n",
       "      <td>2</td>\n",
       "      <td>2</td>\n",
       "      <td>34</td>\n",
       "      <td>0</td>\n",
       "      <td>0</td>\n",
       "      <td>0</td>\n",
       "      <td>0</td>\n",
       "      <td>...</td>\n",
       "      <td>14331.0</td>\n",
       "      <td>14948.0</td>\n",
       "      <td>15549.0</td>\n",
       "      <td>1518.0</td>\n",
       "      <td>1500.0</td>\n",
       "      <td>1000.0</td>\n",
       "      <td>1000.0</td>\n",
       "      <td>1000.0</td>\n",
       "      <td>5000.0</td>\n",
       "      <td>0</td>\n",
       "    </tr>\n",
       "    <tr>\n",
       "      <th>3</th>\n",
       "      <td>4</td>\n",
       "      <td>50000.0</td>\n",
       "      <td>2</td>\n",
       "      <td>2</td>\n",
       "      <td>1</td>\n",
       "      <td>37</td>\n",
       "      <td>0</td>\n",
       "      <td>0</td>\n",
       "      <td>0</td>\n",
       "      <td>0</td>\n",
       "      <td>...</td>\n",
       "      <td>28314.0</td>\n",
       "      <td>28959.0</td>\n",
       "      <td>29547.0</td>\n",
       "      <td>2000.0</td>\n",
       "      <td>2019.0</td>\n",
       "      <td>1200.0</td>\n",
       "      <td>1100.0</td>\n",
       "      <td>1069.0</td>\n",
       "      <td>1000.0</td>\n",
       "      <td>0</td>\n",
       "    </tr>\n",
       "    <tr>\n",
       "      <th>4</th>\n",
       "      <td>5</td>\n",
       "      <td>50000.0</td>\n",
       "      <td>1</td>\n",
       "      <td>2</td>\n",
       "      <td>1</td>\n",
       "      <td>57</td>\n",
       "      <td>-1</td>\n",
       "      <td>0</td>\n",
       "      <td>-1</td>\n",
       "      <td>0</td>\n",
       "      <td>...</td>\n",
       "      <td>20940.0</td>\n",
       "      <td>19146.0</td>\n",
       "      <td>19131.0</td>\n",
       "      <td>2000.0</td>\n",
       "      <td>36681.0</td>\n",
       "      <td>10000.0</td>\n",
       "      <td>9000.0</td>\n",
       "      <td>689.0</td>\n",
       "      <td>679.0</td>\n",
       "      <td>0</td>\n",
       "    </tr>\n",
       "  </tbody>\n",
       "</table>\n",
       "<p>5 rows × 25 columns</p>\n",
       "</div>"
      ],
      "text/plain": [
       "   ID  LIMIT_BAL  SEX  EDUCATION  MARRIAGE  AGE  PAY_0  PAY_2  PAY_3  PAY_4  \\\n",
       "0   1    20000.0    2          2         1   24      2      2     -1     -1   \n",
       "1   2   120000.0    2          2         2   26     -1      2      0      0   \n",
       "2   3    90000.0    2          2         2   34      0      0      0      0   \n",
       "3   4    50000.0    2          2         1   37      0      0      0      0   \n",
       "4   5    50000.0    1          2         1   57     -1      0     -1      0   \n",
       "\n",
       "   ...  BILL_AMT4  BILL_AMT5  BILL_AMT6  PAY_AMT1  PAY_AMT2  PAY_AMT3  \\\n",
       "0  ...        0.0        0.0        0.0       0.0     689.0       0.0   \n",
       "1  ...     3272.0     3455.0     3261.0       0.0    1000.0    1000.0   \n",
       "2  ...    14331.0    14948.0    15549.0    1518.0    1500.0    1000.0   \n",
       "3  ...    28314.0    28959.0    29547.0    2000.0    2019.0    1200.0   \n",
       "4  ...    20940.0    19146.0    19131.0    2000.0   36681.0   10000.0   \n",
       "\n",
       "   PAY_AMT4  PAY_AMT5  PAY_AMT6  default.payment.next.month  \n",
       "0       0.0       0.0       0.0                           1  \n",
       "1    1000.0       0.0    2000.0                           1  \n",
       "2    1000.0    1000.0    5000.0                           0  \n",
       "3    1100.0    1069.0    1000.0                           0  \n",
       "4    9000.0     689.0     679.0                           0  \n",
       "\n",
       "[5 rows x 25 columns]"
      ]
     },
     "execution_count": 3,
     "metadata": {},
     "output_type": "execute_result"
    }
   ],
   "source": [
    "df.head()"
   ]
  },
  {
   "cell_type": "code",
   "execution_count": 4,
   "metadata": {},
   "outputs": [],
   "source": [
    "df = df.rename(columns={'default.payment.next.month': 'default_payment_next_month'})\n",
    "df = df.drop(['ID'], axis=1)"
   ]
  },
  {
   "cell_type": "markdown",
   "metadata": {},
   "source": [
    "### 1. Linear Model"
   ]
  },
  {
   "cell_type": "markdown",
   "metadata": {},
   "source": [
    "#### Statsmodels"
   ]
  },
  {
   "cell_type": "code",
   "execution_count": 5,
   "metadata": {},
   "outputs": [],
   "source": [
    "#Import libraries\n",
    "import statsmodels.api as sm\n",
    "from statsmodels.formula.api import ols"
   ]
  },
  {
   "cell_type": "code",
   "execution_count": 6,
   "metadata": {},
   "outputs": [
    {
     "data": {
      "text/html": [
       "<table class=\"simpletable\">\n",
       "<caption>OLS Regression Results</caption>\n",
       "<tr>\n",
       "  <th>Dep. Variable:</th>    <td>default_payment_next_month</td> <th>  R-squared:         </th> <td>   0.124</td> \n",
       "</tr>\n",
       "<tr>\n",
       "  <th>Model:</th>                        <td>OLS</td>            <th>  Adj. R-squared:    </th> <td>   0.123</td> \n",
       "</tr>\n",
       "<tr>\n",
       "  <th>Method:</th>                  <td>Least Squares</td>       <th>  F-statistic:       </th> <td>   184.5</td> \n",
       "</tr>\n",
       "<tr>\n",
       "  <th>Date:</th>                  <td>Thu, 17 Dec 2020</td>      <th>  Prob (F-statistic):</th>  <td>  0.00</td>  \n",
       "</tr>\n",
       "<tr>\n",
       "  <th>Time:</th>                      <td>17:13:24</td>          <th>  Log-Likelihood:    </th> <td> -14202.</td> \n",
       "</tr>\n",
       "<tr>\n",
       "  <th>No. Observations:</th>           <td> 30000</td>           <th>  AIC:               </th> <td>2.845e+04</td>\n",
       "</tr>\n",
       "<tr>\n",
       "  <th>Df Residuals:</th>               <td> 29976</td>           <th>  BIC:               </th> <td>2.865e+04</td>\n",
       "</tr>\n",
       "<tr>\n",
       "  <th>Df Model:</th>                   <td>    23</td>           <th>                     </th>     <td> </td>    \n",
       "</tr>\n",
       "<tr>\n",
       "  <th>Covariance Type:</th>           <td>nonrobust</td>         <th>                     </th>     <td> </td>    \n",
       "</tr>\n",
       "</table>\n",
       "<table class=\"simpletable\">\n",
       "<tr>\n",
       "      <td></td>         <th>coef</th>     <th>std err</th>      <th>t</th>      <th>P>|t|</th>  <th>[0.025</th>    <th>0.975]</th>  \n",
       "</tr>\n",
       "<tr>\n",
       "  <th>Intercept</th> <td>    0.3142</td> <td>    0.018</td> <td>   17.541</td> <td> 0.000</td> <td>    0.279</td> <td>    0.349</td>\n",
       "</tr>\n",
       "<tr>\n",
       "  <th>LIMIT_BAL</th> <td>-9.053e-08</td> <td> 2.16e-08</td> <td>   -4.193</td> <td> 0.000</td> <td>-1.33e-07</td> <td>-4.82e-08</td>\n",
       "</tr>\n",
       "<tr>\n",
       "  <th>SEX</th>       <td>   -0.0145</td> <td>    0.005</td> <td>   -3.130</td> <td> 0.002</td> <td>   -0.024</td> <td>   -0.005</td>\n",
       "</tr>\n",
       "<tr>\n",
       "  <th>EDUCATION</th> <td>   -0.0151</td> <td>    0.003</td> <td>   -5.022</td> <td> 0.000</td> <td>   -0.021</td> <td>   -0.009</td>\n",
       "</tr>\n",
       "<tr>\n",
       "  <th>MARRIAGE</th>  <td>   -0.0238</td> <td>    0.005</td> <td>   -4.996</td> <td> 0.000</td> <td>   -0.033</td> <td>   -0.014</td>\n",
       "</tr>\n",
       "<tr>\n",
       "  <th>AGE</th>       <td>    0.0014</td> <td>    0.000</td> <td>    5.128</td> <td> 0.000</td> <td>    0.001</td> <td>    0.002</td>\n",
       "</tr>\n",
       "<tr>\n",
       "  <th>PAY_0</th>     <td>    0.0957</td> <td>    0.003</td> <td>   34.596</td> <td> 0.000</td> <td>    0.090</td> <td>    0.101</td>\n",
       "</tr>\n",
       "<tr>\n",
       "  <th>PAY_2</th>     <td>    0.0195</td> <td>    0.003</td> <td>    5.828</td> <td> 0.000</td> <td>    0.013</td> <td>    0.026</td>\n",
       "</tr>\n",
       "<tr>\n",
       "  <th>PAY_3</th>     <td>    0.0117</td> <td>    0.004</td> <td>    3.256</td> <td> 0.001</td> <td>    0.005</td> <td>    0.019</td>\n",
       "</tr>\n",
       "<tr>\n",
       "  <th>PAY_4</th>     <td>    0.0034</td> <td>    0.004</td> <td>    0.846</td> <td> 0.398</td> <td>   -0.004</td> <td>    0.011</td>\n",
       "</tr>\n",
       "<tr>\n",
       "  <th>PAY_5</th>     <td>    0.0057</td> <td>    0.004</td> <td>    1.324</td> <td> 0.185</td> <td>   -0.003</td> <td>    0.014</td>\n",
       "</tr>\n",
       "<tr>\n",
       "  <th>PAY_6</th>     <td>    0.0008</td> <td>    0.004</td> <td>    0.225</td> <td> 0.822</td> <td>   -0.006</td> <td>    0.008</td>\n",
       "</tr>\n",
       "<tr>\n",
       "  <th>BILL_AMT1</th> <td>-6.225e-07</td> <td> 1.14e-07</td> <td>   -5.453</td> <td> 0.000</td> <td>-8.46e-07</td> <td>-3.99e-07</td>\n",
       "</tr>\n",
       "<tr>\n",
       "  <th>BILL_AMT2</th> <td> 1.587e-07</td> <td>  1.6e-07</td> <td>    0.990</td> <td> 0.322</td> <td>-1.56e-07</td> <td> 4.73e-07</td>\n",
       "</tr>\n",
       "<tr>\n",
       "  <th>BILL_AMT3</th> <td> 3.005e-08</td> <td> 1.51e-07</td> <td>    0.199</td> <td> 0.842</td> <td>-2.66e-07</td> <td> 3.26e-07</td>\n",
       "</tr>\n",
       "<tr>\n",
       "  <th>BILL_AMT4</th> <td>-6.793e-08</td> <td> 1.57e-07</td> <td>   -0.432</td> <td> 0.666</td> <td>-3.76e-07</td> <td>  2.4e-07</td>\n",
       "</tr>\n",
       "<tr>\n",
       "  <th>BILL_AMT5</th> <td>-2.049e-08</td> <td> 1.85e-07</td> <td>   -0.111</td> <td> 0.912</td> <td>-3.82e-07</td> <td> 3.41e-07</td>\n",
       "</tr>\n",
       "<tr>\n",
       "  <th>BILL_AMT6</th> <td> 1.153e-07</td> <td> 1.46e-07</td> <td>    0.789</td> <td> 0.430</td> <td>-1.71e-07</td> <td> 4.02e-07</td>\n",
       "</tr>\n",
       "<tr>\n",
       "  <th>PAY_AMT1</th>  <td>-7.437e-07</td> <td> 1.77e-07</td> <td>   -4.201</td> <td> 0.000</td> <td>-1.09e-06</td> <td>-3.97e-07</td>\n",
       "</tr>\n",
       "<tr>\n",
       "  <th>PAY_AMT2</th>  <td>-2.092e-07</td> <td> 1.46e-07</td> <td>   -1.436</td> <td> 0.151</td> <td>-4.95e-07</td> <td> 7.63e-08</td>\n",
       "</tr>\n",
       "<tr>\n",
       "  <th>PAY_AMT3</th>  <td>-2.874e-08</td> <td> 1.69e-07</td> <td>   -0.170</td> <td> 0.865</td> <td> -3.6e-07</td> <td> 3.02e-07</td>\n",
       "</tr>\n",
       "<tr>\n",
       "  <th>PAY_AMT4</th>  <td>-2.521e-07</td> <td> 1.84e-07</td> <td>   -1.371</td> <td> 0.170</td> <td>-6.13e-07</td> <td> 1.08e-07</td>\n",
       "</tr>\n",
       "<tr>\n",
       "  <th>PAY_AMT5</th>  <td> -3.41e-07</td> <td> 1.91e-07</td> <td>   -1.787</td> <td> 0.074</td> <td>-7.15e-07</td> <td>  3.3e-08</td>\n",
       "</tr>\n",
       "<tr>\n",
       "  <th>PAY_AMT6</th>  <td> -9.77e-08</td> <td> 1.37e-07</td> <td>   -0.716</td> <td> 0.474</td> <td>-3.65e-07</td> <td>  1.7e-07</td>\n",
       "</tr>\n",
       "</table>\n",
       "<table class=\"simpletable\">\n",
       "<tr>\n",
       "  <th>Omnibus:</th>       <td>4682.286</td> <th>  Durbin-Watson:     </th> <td>   2.013</td>\n",
       "</tr>\n",
       "<tr>\n",
       "  <th>Prob(Omnibus):</th>  <td> 0.000</td>  <th>  Jarque-Bera (JB):  </th> <td>7285.821</td>\n",
       "</tr>\n",
       "<tr>\n",
       "  <th>Skew:</th>           <td> 1.204</td>  <th>  Prob(JB):          </th> <td>    0.00</td>\n",
       "</tr>\n",
       "<tr>\n",
       "  <th>Kurtosis:</th>       <td> 3.178</td>  <th>  Cond. No.          </th> <td>2.10e+06</td>\n",
       "</tr>\n",
       "</table><br/><br/>Warnings:<br/>[1] Standard Errors assume that the covariance matrix of the errors is correctly specified.<br/>[2] The condition number is large, 2.1e+06. This might indicate that there are<br/>strong multicollinearity or other numerical problems."
      ],
      "text/plain": [
       "<class 'statsmodels.iolib.summary.Summary'>\n",
       "\"\"\"\n",
       "                                OLS Regression Results                                \n",
       "======================================================================================\n",
       "Dep. Variable:     default_payment_next_month   R-squared:                       0.124\n",
       "Model:                                    OLS   Adj. R-squared:                  0.123\n",
       "Method:                         Least Squares   F-statistic:                     184.5\n",
       "Date:                        Thu, 17 Dec 2020   Prob (F-statistic):               0.00\n",
       "Time:                                17:13:24   Log-Likelihood:                -14202.\n",
       "No. Observations:                       30000   AIC:                         2.845e+04\n",
       "Df Residuals:                           29976   BIC:                         2.865e+04\n",
       "Df Model:                                  23                                         \n",
       "Covariance Type:                    nonrobust                                         \n",
       "==============================================================================\n",
       "                 coef    std err          t      P>|t|      [0.025      0.975]\n",
       "------------------------------------------------------------------------------\n",
       "Intercept      0.3142      0.018     17.541      0.000       0.279       0.349\n",
       "LIMIT_BAL  -9.053e-08   2.16e-08     -4.193      0.000   -1.33e-07   -4.82e-08\n",
       "SEX           -0.0145      0.005     -3.130      0.002      -0.024      -0.005\n",
       "EDUCATION     -0.0151      0.003     -5.022      0.000      -0.021      -0.009\n",
       "MARRIAGE      -0.0238      0.005     -4.996      0.000      -0.033      -0.014\n",
       "AGE            0.0014      0.000      5.128      0.000       0.001       0.002\n",
       "PAY_0          0.0957      0.003     34.596      0.000       0.090       0.101\n",
       "PAY_2          0.0195      0.003      5.828      0.000       0.013       0.026\n",
       "PAY_3          0.0117      0.004      3.256      0.001       0.005       0.019\n",
       "PAY_4          0.0034      0.004      0.846      0.398      -0.004       0.011\n",
       "PAY_5          0.0057      0.004      1.324      0.185      -0.003       0.014\n",
       "PAY_6          0.0008      0.004      0.225      0.822      -0.006       0.008\n",
       "BILL_AMT1  -6.225e-07   1.14e-07     -5.453      0.000   -8.46e-07   -3.99e-07\n",
       "BILL_AMT2   1.587e-07    1.6e-07      0.990      0.322   -1.56e-07    4.73e-07\n",
       "BILL_AMT3   3.005e-08   1.51e-07      0.199      0.842   -2.66e-07    3.26e-07\n",
       "BILL_AMT4  -6.793e-08   1.57e-07     -0.432      0.666   -3.76e-07     2.4e-07\n",
       "BILL_AMT5  -2.049e-08   1.85e-07     -0.111      0.912   -3.82e-07    3.41e-07\n",
       "BILL_AMT6   1.153e-07   1.46e-07      0.789      0.430   -1.71e-07    4.02e-07\n",
       "PAY_AMT1   -7.437e-07   1.77e-07     -4.201      0.000   -1.09e-06   -3.97e-07\n",
       "PAY_AMT2   -2.092e-07   1.46e-07     -1.436      0.151   -4.95e-07    7.63e-08\n",
       "PAY_AMT3   -2.874e-08   1.69e-07     -0.170      0.865    -3.6e-07    3.02e-07\n",
       "PAY_AMT4   -2.521e-07   1.84e-07     -1.371      0.170   -6.13e-07    1.08e-07\n",
       "PAY_AMT5    -3.41e-07   1.91e-07     -1.787      0.074   -7.15e-07     3.3e-08\n",
       "PAY_AMT6    -9.77e-08   1.37e-07     -0.716      0.474   -3.65e-07     1.7e-07\n",
       "==============================================================================\n",
       "Omnibus:                     4682.286   Durbin-Watson:                   2.013\n",
       "Prob(Omnibus):                  0.000   Jarque-Bera (JB):             7285.821\n",
       "Skew:                           1.204   Prob(JB):                         0.00\n",
       "Kurtosis:                       3.178   Cond. No.                     2.10e+06\n",
       "==============================================================================\n",
       "\n",
       "Warnings:\n",
       "[1] Standard Errors assume that the covariance matrix of the errors is correctly specified.\n",
       "[2] The condition number is large, 2.1e+06. This might indicate that there are\n",
       "strong multicollinearity or other numerical problems.\n",
       "\"\"\""
      ]
     },
     "execution_count": 6,
     "metadata": {},
     "output_type": "execute_result"
    }
   ],
   "source": [
    "#Build regression model \n",
    "\n",
    "outcome='default_payment_next_month'\n",
    "cols=[col for col in df.columns]\n",
    "cols.remove('default_payment_next_month')\n",
    "predictors='+'.join(cols)\n",
    "formula=outcome+'~'+predictors\n",
    "model=ols(formula=formula,data=df).fit()\n",
    "model.summary()"
   ]
  },
  {
   "cell_type": "code",
   "execution_count": 7,
   "metadata": {},
   "outputs": [],
   "source": [
    "#Train-Test-Split\n",
    "train, test = train_test_split(df, test_size=0.2, random_state=42)"
   ]
  },
  {
   "cell_type": "code",
   "execution_count": 8,
   "metadata": {},
   "outputs": [
    {
     "data": {
      "text/html": [
       "<table class=\"simpletable\">\n",
       "<caption>OLS Regression Results</caption>\n",
       "<tr>\n",
       "  <th>Dep. Variable:</th>    <td>default_payment_next_month</td> <th>  R-squared:         </th> <td>   0.125</td> \n",
       "</tr>\n",
       "<tr>\n",
       "  <th>Model:</th>                        <td>OLS</td>            <th>  Adj. R-squared:    </th> <td>   0.124</td> \n",
       "</tr>\n",
       "<tr>\n",
       "  <th>Method:</th>                  <td>Least Squares</td>       <th>  F-statistic:       </th> <td>   149.1</td> \n",
       "</tr>\n",
       "<tr>\n",
       "  <th>Date:</th>                  <td>Thu, 17 Dec 2020</td>      <th>  Prob (F-statistic):</th>  <td>  0.00</td>  \n",
       "</tr>\n",
       "<tr>\n",
       "  <th>Time:</th>                      <td>17:13:25</td>          <th>  Log-Likelihood:    </th> <td> -11369.</td> \n",
       "</tr>\n",
       "<tr>\n",
       "  <th>No. Observations:</th>           <td> 24000</td>           <th>  AIC:               </th> <td>2.279e+04</td>\n",
       "</tr>\n",
       "<tr>\n",
       "  <th>Df Residuals:</th>               <td> 23976</td>           <th>  BIC:               </th> <td>2.298e+04</td>\n",
       "</tr>\n",
       "<tr>\n",
       "  <th>Df Model:</th>                   <td>    23</td>           <th>                     </th>     <td> </td>    \n",
       "</tr>\n",
       "<tr>\n",
       "  <th>Covariance Type:</th>           <td>nonrobust</td>         <th>                     </th>     <td> </td>    \n",
       "</tr>\n",
       "</table>\n",
       "<table class=\"simpletable\">\n",
       "<tr>\n",
       "      <td></td>         <th>coef</th>     <th>std err</th>      <th>t</th>      <th>P>|t|</th>  <th>[0.025</th>    <th>0.975]</th>  \n",
       "</tr>\n",
       "<tr>\n",
       "  <th>Intercept</th> <td>    0.3098</td> <td>    0.020</td> <td>   15.446</td> <td> 0.000</td> <td>    0.270</td> <td>    0.349</td>\n",
       "</tr>\n",
       "<tr>\n",
       "  <th>LIMIT_BAL</th> <td>-9.692e-08</td> <td> 2.42e-08</td> <td>   -4.009</td> <td> 0.000</td> <td>-1.44e-07</td> <td>-4.95e-08</td>\n",
       "</tr>\n",
       "<tr>\n",
       "  <th>SEX</th>       <td>   -0.0158</td> <td>    0.005</td> <td>   -3.043</td> <td> 0.002</td> <td>   -0.026</td> <td>   -0.006</td>\n",
       "</tr>\n",
       "<tr>\n",
       "  <th>EDUCATION</th> <td>   -0.0146</td> <td>    0.003</td> <td>   -4.352</td> <td> 0.000</td> <td>   -0.021</td> <td>   -0.008</td>\n",
       "</tr>\n",
       "<tr>\n",
       "  <th>MARRIAGE</th>  <td>   -0.0229</td> <td>    0.005</td> <td>   -4.298</td> <td> 0.000</td> <td>   -0.033</td> <td>   -0.012</td>\n",
       "</tr>\n",
       "<tr>\n",
       "  <th>AGE</th>       <td>    0.0016</td> <td>    0.000</td> <td>    5.084</td> <td> 0.000</td> <td>    0.001</td> <td>    0.002</td>\n",
       "</tr>\n",
       "<tr>\n",
       "  <th>PAY_0</th>     <td>    0.0952</td> <td>    0.003</td> <td>   30.735</td> <td> 0.000</td> <td>    0.089</td> <td>    0.101</td>\n",
       "</tr>\n",
       "<tr>\n",
       "  <th>PAY_2</th>     <td>    0.0206</td> <td>    0.004</td> <td>    5.489</td> <td> 0.000</td> <td>    0.013</td> <td>    0.028</td>\n",
       "</tr>\n",
       "<tr>\n",
       "  <th>PAY_3</th>     <td>    0.0110</td> <td>    0.004</td> <td>    2.715</td> <td> 0.007</td> <td>    0.003</td> <td>    0.019</td>\n",
       "</tr>\n",
       "<tr>\n",
       "  <th>PAY_4</th>     <td>    0.0067</td> <td>    0.004</td> <td>    1.505</td> <td> 0.132</td> <td>   -0.002</td> <td>    0.015</td>\n",
       "</tr>\n",
       "<tr>\n",
       "  <th>PAY_5</th>     <td>    0.0029</td> <td>    0.005</td> <td>    0.595</td> <td> 0.552</td> <td>   -0.007</td> <td>    0.012</td>\n",
       "</tr>\n",
       "<tr>\n",
       "  <th>PAY_6</th>     <td>    0.0019</td> <td>    0.004</td> <td>    0.483</td> <td> 0.629</td> <td>   -0.006</td> <td>    0.010</td>\n",
       "</tr>\n",
       "<tr>\n",
       "  <th>BILL_AMT1</th> <td>-6.045e-07</td> <td> 1.28e-07</td> <td>   -4.722</td> <td> 0.000</td> <td>-8.55e-07</td> <td>-3.54e-07</td>\n",
       "</tr>\n",
       "<tr>\n",
       "  <th>BILL_AMT2</th> <td>  1.63e-07</td> <td> 1.81e-07</td> <td>    0.902</td> <td> 0.367</td> <td>-1.91e-07</td> <td> 5.17e-07</td>\n",
       "</tr>\n",
       "<tr>\n",
       "  <th>BILL_AMT3</th> <td>  4.47e-08</td> <td> 1.69e-07</td> <td>    0.265</td> <td> 0.791</td> <td>-2.86e-07</td> <td> 3.75e-07</td>\n",
       "</tr>\n",
       "<tr>\n",
       "  <th>BILL_AMT4</th> <td>-1.577e-07</td> <td> 1.73e-07</td> <td>   -0.909</td> <td> 0.363</td> <td>-4.98e-07</td> <td> 1.82e-07</td>\n",
       "</tr>\n",
       "<tr>\n",
       "  <th>BILL_AMT5</th> <td> -9.44e-09</td> <td> 2.07e-07</td> <td>   -0.046</td> <td> 0.964</td> <td>-4.15e-07</td> <td> 3.97e-07</td>\n",
       "</tr>\n",
       "<tr>\n",
       "  <th>BILL_AMT6</th> <td> 1.179e-07</td> <td> 1.66e-07</td> <td>    0.712</td> <td> 0.477</td> <td>-2.07e-07</td> <td> 4.43e-07</td>\n",
       "</tr>\n",
       "<tr>\n",
       "  <th>PAY_AMT1</th>  <td>-5.985e-07</td> <td> 1.94e-07</td> <td>   -3.083</td> <td> 0.002</td> <td>-9.79e-07</td> <td>-2.18e-07</td>\n",
       "</tr>\n",
       "<tr>\n",
       "  <th>PAY_AMT2</th>  <td>-2.075e-07</td> <td>  1.6e-07</td> <td>   -1.299</td> <td> 0.194</td> <td>-5.21e-07</td> <td> 1.06e-07</td>\n",
       "</tr>\n",
       "<tr>\n",
       "  <th>PAY_AMT3</th>  <td> 7.262e-08</td> <td> 1.86e-07</td> <td>    0.390</td> <td> 0.697</td> <td>-2.92e-07</td> <td> 4.38e-07</td>\n",
       "</tr>\n",
       "<tr>\n",
       "  <th>PAY_AMT4</th>  <td>-2.295e-07</td> <td> 1.99e-07</td> <td>   -1.152</td> <td> 0.250</td> <td> -6.2e-07</td> <td> 1.61e-07</td>\n",
       "</tr>\n",
       "<tr>\n",
       "  <th>PAY_AMT5</th>  <td>-1.895e-07</td> <td>  2.1e-07</td> <td>   -0.902</td> <td> 0.367</td> <td>-6.01e-07</td> <td> 2.22e-07</td>\n",
       "</tr>\n",
       "<tr>\n",
       "  <th>PAY_AMT6</th>  <td>-1.375e-07</td> <td> 1.55e-07</td> <td>   -0.886</td> <td> 0.375</td> <td>-4.42e-07</td> <td> 1.67e-07</td>\n",
       "</tr>\n",
       "</table>\n",
       "<table class=\"simpletable\">\n",
       "<tr>\n",
       "  <th>Omnibus:</th>       <td>3750.617</td> <th>  Durbin-Watson:     </th> <td>   2.011</td>\n",
       "</tr>\n",
       "<tr>\n",
       "  <th>Prob(Omnibus):</th>  <td> 0.000</td>  <th>  Jarque-Bera (JB):  </th> <td>5836.711</td>\n",
       "</tr>\n",
       "<tr>\n",
       "  <th>Skew:</th>           <td> 1.205</td>  <th>  Prob(JB):          </th> <td>    0.00</td>\n",
       "</tr>\n",
       "<tr>\n",
       "  <th>Kurtosis:</th>       <td> 3.182</td>  <th>  Cond. No.          </th> <td>2.10e+06</td>\n",
       "</tr>\n",
       "</table><br/><br/>Warnings:<br/>[1] Standard Errors assume that the covariance matrix of the errors is correctly specified.<br/>[2] The condition number is large, 2.1e+06. This might indicate that there are<br/>strong multicollinearity or other numerical problems."
      ],
      "text/plain": [
       "<class 'statsmodels.iolib.summary.Summary'>\n",
       "\"\"\"\n",
       "                                OLS Regression Results                                \n",
       "======================================================================================\n",
       "Dep. Variable:     default_payment_next_month   R-squared:                       0.125\n",
       "Model:                                    OLS   Adj. R-squared:                  0.124\n",
       "Method:                         Least Squares   F-statistic:                     149.1\n",
       "Date:                        Thu, 17 Dec 2020   Prob (F-statistic):               0.00\n",
       "Time:                                17:13:25   Log-Likelihood:                -11369.\n",
       "No. Observations:                       24000   AIC:                         2.279e+04\n",
       "Df Residuals:                           23976   BIC:                         2.298e+04\n",
       "Df Model:                                  23                                         \n",
       "Covariance Type:                    nonrobust                                         \n",
       "==============================================================================\n",
       "                 coef    std err          t      P>|t|      [0.025      0.975]\n",
       "------------------------------------------------------------------------------\n",
       "Intercept      0.3098      0.020     15.446      0.000       0.270       0.349\n",
       "LIMIT_BAL  -9.692e-08   2.42e-08     -4.009      0.000   -1.44e-07   -4.95e-08\n",
       "SEX           -0.0158      0.005     -3.043      0.002      -0.026      -0.006\n",
       "EDUCATION     -0.0146      0.003     -4.352      0.000      -0.021      -0.008\n",
       "MARRIAGE      -0.0229      0.005     -4.298      0.000      -0.033      -0.012\n",
       "AGE            0.0016      0.000      5.084      0.000       0.001       0.002\n",
       "PAY_0          0.0952      0.003     30.735      0.000       0.089       0.101\n",
       "PAY_2          0.0206      0.004      5.489      0.000       0.013       0.028\n",
       "PAY_3          0.0110      0.004      2.715      0.007       0.003       0.019\n",
       "PAY_4          0.0067      0.004      1.505      0.132      -0.002       0.015\n",
       "PAY_5          0.0029      0.005      0.595      0.552      -0.007       0.012\n",
       "PAY_6          0.0019      0.004      0.483      0.629      -0.006       0.010\n",
       "BILL_AMT1  -6.045e-07   1.28e-07     -4.722      0.000   -8.55e-07   -3.54e-07\n",
       "BILL_AMT2    1.63e-07   1.81e-07      0.902      0.367   -1.91e-07    5.17e-07\n",
       "BILL_AMT3    4.47e-08   1.69e-07      0.265      0.791   -2.86e-07    3.75e-07\n",
       "BILL_AMT4  -1.577e-07   1.73e-07     -0.909      0.363   -4.98e-07    1.82e-07\n",
       "BILL_AMT5   -9.44e-09   2.07e-07     -0.046      0.964   -4.15e-07    3.97e-07\n",
       "BILL_AMT6   1.179e-07   1.66e-07      0.712      0.477   -2.07e-07    4.43e-07\n",
       "PAY_AMT1   -5.985e-07   1.94e-07     -3.083      0.002   -9.79e-07   -2.18e-07\n",
       "PAY_AMT2   -2.075e-07    1.6e-07     -1.299      0.194   -5.21e-07    1.06e-07\n",
       "PAY_AMT3    7.262e-08   1.86e-07      0.390      0.697   -2.92e-07    4.38e-07\n",
       "PAY_AMT4   -2.295e-07   1.99e-07     -1.152      0.250    -6.2e-07    1.61e-07\n",
       "PAY_AMT5   -1.895e-07    2.1e-07     -0.902      0.367   -6.01e-07    2.22e-07\n",
       "PAY_AMT6   -1.375e-07   1.55e-07     -0.886      0.375   -4.42e-07    1.67e-07\n",
       "==============================================================================\n",
       "Omnibus:                     3750.617   Durbin-Watson:                   2.011\n",
       "Prob(Omnibus):                  0.000   Jarque-Bera (JB):             5836.711\n",
       "Skew:                           1.205   Prob(JB):                         0.00\n",
       "Kurtosis:                       3.182   Cond. No.                     2.10e+06\n",
       "==============================================================================\n",
       "\n",
       "Warnings:\n",
       "[1] Standard Errors assume that the covariance matrix of the errors is correctly specified.\n",
       "[2] The condition number is large, 2.1e+06. This might indicate that there are\n",
       "strong multicollinearity or other numerical problems.\n",
       "\"\"\""
      ]
     },
     "execution_count": 8,
     "metadata": {},
     "output_type": "execute_result"
    }
   ],
   "source": [
    "#Fit the model on the train data\n",
    "formula=outcome+'~'+predictors\n",
    "model=ols(formula=formula,data=train).fit()\n",
    "model.summary()"
   ]
  },
  {
   "cell_type": "code",
   "execution_count": 9,
   "metadata": {},
   "outputs": [],
   "source": [
    "#Predict the model using the test data \n",
    "y_hat_test = model.predict(test)\n",
    "y_test = test['default_payment_next_month']\n",
    "\n",
    "#Do the same for the train data\n",
    "y_hat_train = model.predict(train)\n",
    "y_train = train['default_payment_next_month']"
   ]
  },
  {
   "cell_type": "code",
   "execution_count": 10,
   "metadata": {},
   "outputs": [
    {
     "name": "stdout",
     "output_type": "stream",
     "text": [
      "Train Mean squared error:  0.1509996248474726\n",
      "Test Mean squared error:  0.15066548456702586\n",
      "Train RMSE:  0.38858670184075084\n",
      "Test RMSE:  0.3881565207065648\n"
     ]
    }
   ],
   "source": [
    "#Evaluate the model using MSE and RMSE\n",
    "mse_test = mean_squared_error(y_hat_test, y_test)\n",
    "mse_train = mean_squared_error(y_hat_train, y_train)\n",
    "\n",
    "print('Train Mean squared error: ', mse_train)\n",
    "print('Test Mean squared error: ', mse_test)\n",
    "print('Train RMSE: ', np.sqrt(mse_train))\n",
    "print('Test RMSE: ', np.sqrt(mse_test))"
   ]
  },
  {
   "cell_type": "markdown",
   "metadata": {},
   "source": [
    "### 2. Logistic Model"
   ]
  },
  {
   "cell_type": "code",
   "execution_count": 11,
   "metadata": {
    "scrolled": true
   },
   "outputs": [
    {
     "name": "stdout",
     "output_type": "stream",
     "text": [
      "<class 'pandas.core.frame.DataFrame'>\n",
      "RangeIndex: 30000 entries, 0 to 29999\n",
      "Data columns (total 24 columns):\n",
      "LIMIT_BAL                     30000 non-null float64\n",
      "SEX                           30000 non-null int64\n",
      "EDUCATION                     30000 non-null int64\n",
      "MARRIAGE                      30000 non-null int64\n",
      "AGE                           30000 non-null int64\n",
      "PAY_0                         30000 non-null int64\n",
      "PAY_2                         30000 non-null int64\n",
      "PAY_3                         30000 non-null int64\n",
      "PAY_4                         30000 non-null int64\n",
      "PAY_5                         30000 non-null int64\n",
      "PAY_6                         30000 non-null int64\n",
      "BILL_AMT1                     30000 non-null float64\n",
      "BILL_AMT2                     30000 non-null float64\n",
      "BILL_AMT3                     30000 non-null float64\n",
      "BILL_AMT4                     30000 non-null float64\n",
      "BILL_AMT5                     30000 non-null float64\n",
      "BILL_AMT6                     30000 non-null float64\n",
      "PAY_AMT1                      30000 non-null float64\n",
      "PAY_AMT2                      30000 non-null float64\n",
      "PAY_AMT3                      30000 non-null float64\n",
      "PAY_AMT4                      30000 non-null float64\n",
      "PAY_AMT5                      30000 non-null float64\n",
      "PAY_AMT6                      30000 non-null float64\n",
      "default_payment_next_month    30000 non-null int64\n",
      "dtypes: float64(13), int64(11)\n",
      "memory usage: 5.5 MB\n"
     ]
    }
   ],
   "source": [
    "#Look at our data again \n",
    "df.info()"
   ]
  },
  {
   "cell_type": "code",
   "execution_count": 12,
   "metadata": {},
   "outputs": [],
   "source": [
    "#Create dummy variables\n",
    "relevant_columns = ['default_payment_next_month', 'LIMIT_BAL', 'SEX', 'EDUCATION', \n",
    "                    'MARRIAGE', 'AGE', 'PAY_0','BILL_AMT1', 'PAY_AMT1']\n",
    "dummy_dataframe = pd.get_dummies(df[relevant_columns], drop_first=True, dtype=float)"
   ]
  },
  {
   "cell_type": "code",
   "execution_count": 13,
   "metadata": {},
   "outputs": [],
   "source": [
    "#split X and Y\n",
    "y = dummy_dataframe['default_payment_next_month']\n",
    "X = dummy_dataframe.drop(columns=['default_payment_next_month'], axis=1)"
   ]
  },
  {
   "cell_type": "code",
   "execution_count": 14,
   "metadata": {},
   "outputs": [],
   "source": [
    "#Fill NA values\n",
    "X = X.fillna(value=0)"
   ]
  },
  {
   "cell_type": "code",
   "execution_count": 15,
   "metadata": {},
   "outputs": [],
   "source": [
    "#Train test split \n",
    "X_train, X_test, y_train, y_test = train_test_split(X, y, random_state=0)"
   ]
  },
  {
   "cell_type": "code",
   "execution_count": 16,
   "metadata": {},
   "outputs": [],
   "source": [
    "#Scale the data\n",
    "scaler = StandardScaler()  \n",
    "scaler.fit(X_train)\n",
    "\n",
    "X_train_scaled = scaler.transform(X_train)  \n",
    "X_test_scaled = scaler.transform(X_test) "
   ]
  },
  {
   "cell_type": "code",
   "execution_count": 17,
   "metadata": {},
   "outputs": [],
   "source": [
    "#Instantiate the classifier \n",
    "logreg = LogisticRegression(fit_intercept=False, C=1e12, solver='liblinear')"
   ]
  },
  {
   "cell_type": "code",
   "execution_count": 18,
   "metadata": {},
   "outputs": [
    {
     "data": {
      "text/plain": [
       "LogisticRegression(C=1000000000000.0, fit_intercept=False, solver='liblinear')"
      ]
     },
     "execution_count": 18,
     "metadata": {},
     "output_type": "execute_result"
    }
   ],
   "source": [
    "#Fit the model\n",
    "logreg.fit(X_train_scaled, y_train)"
   ]
  },
  {
   "cell_type": "code",
   "execution_count": 19,
   "metadata": {},
   "outputs": [],
   "source": [
    "#Make predictions \n",
    "\n",
    "y_hat_train = logreg.predict(X_train_scaled)\n",
    "y_hat_test = logreg.predict(X_test_scaled)"
   ]
  },
  {
   "cell_type": "code",
   "execution_count": 20,
   "metadata": {
    "scrolled": true
   },
   "outputs": [
    {
     "name": "stdout",
     "output_type": "stream",
     "text": [
      "0    13828\n",
      "1     8672\n",
      "Name: default_payment_next_month, dtype: int64\n",
      "0    0.614578\n",
      "1    0.385422\n",
      "Name: default_payment_next_month, dtype: float64\n"
     ]
    }
   ],
   "source": [
    "#Check when model is correct on training set \n",
    "\n",
    "residuals = np.abs(y_train - y_hat_train)\n",
    "print(pd.Series(residuals).value_counts())\n",
    "print(pd.Series(residuals).value_counts(normalize=True))\n"
   ]
  },
  {
   "cell_type": "markdown",
   "metadata": {},
   "source": [
    "Result for train set shows that 18,002 values are correct with approximately 80% accuracy."
   ]
  },
  {
   "cell_type": "code",
   "execution_count": 21,
   "metadata": {},
   "outputs": [
    {
     "name": "stdout",
     "output_type": "stream",
     "text": [
      "0    4641\n",
      "1    2859\n",
      "Name: default_payment_next_month, dtype: int64\n",
      "0    0.6188\n",
      "1    0.3812\n",
      "Name: default_payment_next_month, dtype: float64\n"
     ]
    }
   ],
   "source": [
    "#Check when model is correct on test set\n",
    "\n",
    "residuals = np.abs(y_test - y_hat_test)\n",
    "print(pd.Series(residuals).value_counts())\n",
    "print(pd.Series(residuals).value_counts(normalize=True))"
   ]
  },
  {
   "cell_type": "markdown",
   "metadata": {},
   "source": [
    "Result for test set shows that 6071 values are correct with approximately 81% accuracy."
   ]
  },
  {
   "cell_type": "markdown",
   "metadata": {},
   "source": [
    "#### Evaluation Metrics"
   ]
  },
  {
   "cell_type": "code",
   "execution_count": 22,
   "metadata": {},
   "outputs": [],
   "source": [
    "#write function to print score results \n",
    "\n",
    "def performance_results(trainx, trainy, train_prediction, testx, testy, test_prediction, model):  \n",
    "    \n",
    "    print(\"\\n\")\n",
    "    \n",
    "    print(\"Train Score Results\")\n",
    "    print(classification_report(trainy, train_prediction))       \n",
    "    print(f'Train Set Accuracy: {accuracy_score(trainy, train_prediction):.4f}')\n",
    "    print(f'Train Set Precision: {precision_score(trainy, train_prediction):.4f}')\n",
    "    print(f'Train Set Recall: {recall_score(trainy, train_prediction):.4f}')\n",
    "    print(f'Train Set F1-Score: {f1_score(trainy, train_prediction):.4f}')\n",
    "\n",
    "    print(\"\\n\")\n",
    "    \n",
    "    print(\"Test Score Results\")    \n",
    "    print(classification_report(testy, test_prediction))       \n",
    "    print(f'Test Set Accuracy: {accuracy_score(testy, test_prediction):.4f}')\n",
    "    print(f'Test Set Precision: {precision_score(testy, test_prediction):.4f}')\n",
    "    print(f'Test Set Recall: {recall_score(testy, test_prediction):.4f}')\n",
    "    print(f'Test Set F1-Score: {f1_score(testy, test_prediction):.4f}')\n",
    "    \n",
    "    print(\"\\n\")\n",
    "    print(\"Test Set Confusion Matrix\")\n",
    "    plot_confusion_matrix(model, testx, testy, cmap=plt.cm.Blues)\n"
   ]
  },
  {
   "cell_type": "code",
   "execution_count": 23,
   "metadata": {},
   "outputs": [
    {
     "name": "stdout",
     "output_type": "stream",
     "text": [
      "\n",
      "\n",
      "Train Score Results\n",
      "              precision    recall  f1-score   support\n",
      "\n",
      "           0       0.87      0.59      0.71     17496\n",
      "           1       0.33      0.69      0.44      5004\n",
      "\n",
      "    accuracy                           0.61     22500\n",
      "   macro avg       0.60      0.64      0.57     22500\n",
      "weighted avg       0.75      0.61      0.65     22500\n",
      "\n",
      "Train Set Accuracy: 0.6146\n",
      "Train Set Precision: 0.3261\n",
      "Train Set Recall: 0.6871\n",
      "Train Set F1-Score: 0.4422\n",
      "\n",
      "\n",
      "Test Score Results\n",
      "              precision    recall  f1-score   support\n",
      "\n",
      "           0       0.87      0.60      0.71      5868\n",
      "           1       0.32      0.69      0.44      1632\n",
      "\n",
      "    accuracy                           0.62      7500\n",
      "   macro avg       0.60      0.64      0.58      7500\n",
      "weighted avg       0.75      0.62      0.65      7500\n",
      "\n",
      "Test Set Accuracy: 0.6188\n",
      "Test Set Precision: 0.3234\n",
      "Test Set Recall: 0.6881\n",
      "Test Set F1-Score: 0.4400\n",
      "\n",
      "\n",
      "Test Set Confusion Matrix\n"
     ]
    },
    {
     "data": {
      "image/png": "[encoded data removed]",
      "text/plain": [
       "<Figure size 432x288 with 2 Axes>"
      ]
     },
     "metadata": {
      "needs_background": "light"
     },
     "output_type": "display_data"
    }
   ],
   "source": [
    "performance_results(X_train_scaled, y_train, y_hat_train, X_test_scaled, y_test, y_hat_test, logreg)"
   ]
  },
  {
   "cell_type": "code",
   "execution_count": 24,
   "metadata": {},
   "outputs": [],
   "source": [
    "#Build ROC curve\n",
    "\n",
    "y_score = logreg.fit(X_train_scaled, y_train).decision_function(X_test_scaled)\n",
    "\n",
    "fpr, tpr, thresholds = roc_curve(y_test, y_score)"
   ]
  },
  {
   "cell_type": "code",
   "execution_count": 25,
   "metadata": {},
   "outputs": [
    {
     "name": "stdout",
     "output_type": "stream",
     "text": [
      "AUC: 0.7139284959467768\n"
     ]
    },
    {
     "data": {
      "image/png": "[encoded data removed]",
      "text/plain": [
       "<Figure size 720x576 with 1 Axes>"
      ]
     },
     "metadata": {},
     "output_type": "display_data"
    }
   ],
   "source": [
    "#Show ROC graph\n",
    "\n",
    "sns.set_style('darkgrid', {'axes.facecolor': '0.9'})\n",
    "\n",
    "print('AUC: {}'.format(auc(fpr, tpr)))\n",
    "plt.figure(figsize=(10, 8))\n",
    "lw = 2\n",
    "plt.plot(fpr, tpr, color='darkorange',\n",
    "         lw=lw, label='ROC curve')\n",
    "plt.plot([0, 1], [0, 1], color='navy', lw=lw, linestyle='--')\n",
    "plt.xlim([0.0, 1.0])\n",
    "plt.ylim([0.0, 1.05])\n",
    "plt.yticks([i/20.0 for i in range(21)])\n",
    "plt.xticks([i/20.0 for i in range(21)])\n",
    "plt.xlabel('False Positive Rate')\n",
    "plt.ylabel('True Positive Rate')\n",
    "plt.title('Receiver operating characteristic (ROC) Curve')\n",
    "plt.legend(loc='lower right')\n",
    "plt.show()"
   ]
  },
  {
   "cell_type": "markdown",
   "metadata": {},
   "source": [
    "AUC is 0.71 which is average. As shown in the graph above, imporvements to our model could move our ROC curve closer to the top left corner. "
   ]
  },
  {
   "cell_type": "markdown",
   "metadata": {},
   "source": [
    "### 3. KNN Model"
   ]
  },
  {
   "cell_type": "code",
   "execution_count": 26,
   "metadata": {},
   "outputs": [],
   "source": [
    "#Fit and predict the model\n",
    "\n",
    "knnmodel = KNeighborsClassifier(n_neighbors=1)\n",
    "knnmodel.fit(X_train_scaled, y_train)\n",
    "\n",
    "y_predict_test = knnmodel.predict(X_test_scaled)\n",
    "y_predict_train = knnmodel.predict(X_train_scaled)"
   ]
  },
  {
   "cell_type": "code",
   "execution_count": 27,
   "metadata": {},
   "outputs": [
    {
     "name": "stdout",
     "output_type": "stream",
     "text": [
      "\n",
      "\n",
      "Train Score Results\n",
      "              precision    recall  f1-score   support\n",
      "\n",
      "           0       1.00      1.00      1.00     17496\n",
      "           1       1.00      1.00      1.00      5004\n",
      "\n",
      "    accuracy                           1.00     22500\n",
      "   macro avg       1.00      1.00      1.00     22500\n",
      "weighted avg       1.00      1.00      1.00     22500\n",
      "\n",
      "Train Set Accuracy: 0.9991\n",
      "Train Set Precision: 0.9978\n",
      "Train Set Recall: 0.9980\n",
      "Train Set F1-Score: 0.9979\n",
      "\n",
      "\n",
      "Test Score Results\n",
      "              precision    recall  f1-score   support\n",
      "\n",
      "           0       0.83      0.81      0.82      5868\n",
      "           1       0.37      0.39      0.38      1632\n",
      "\n",
      "    accuracy                           0.72      7500\n",
      "   macro avg       0.60      0.60      0.60      7500\n",
      "weighted avg       0.73      0.72      0.73      7500\n",
      "\n",
      "Test Set Accuracy: 0.7224\n",
      "Test Set Precision: 0.3695\n",
      "Test Set Recall: 0.3903\n",
      "Test Set F1-Score: 0.3796\n",
      "\n",
      "\n",
      "Test Set Confusion Matrix\n"
     ]
    },
    {
     "data": {
      "image/png": "[encoded data removed]",
      "text/plain": [
       "<Figure size 432x288 with 2 Axes>"
      ]
     },
     "metadata": {},
     "output_type": "display_data"
    }
   ],
   "source": [
    "#Evaluate test results \n",
    "\n",
    "performance_results(X_train_scaled, y_train, y_predict_train, X_test_scaled, y_test, y_predict_test, knnmodel)"
   ]
  },
  {
   "cell_type": "markdown",
   "metadata": {},
   "source": [
    "#### Hypertuning to find optimal value of K "
   ]
  },
  {
   "cell_type": "code",
   "execution_count": 28,
   "metadata": {},
   "outputs": [],
   "source": [
    "#Define function \n",
    "def find_best_k(X_train, y_train, X_test, y_test, min_k=1, max_k=35):\n",
    "    best_k = 0\n",
    "    best_score = 0.0\n",
    "    for k in range(min_k, max_k+1, 2):\n",
    "        knn = KNeighborsClassifier(n_neighbors=k)\n",
    "        knn.fit(X_train, y_train)\n",
    "        preds = knn.predict(X_test)\n",
    "        f1 = f1_score(y_test, preds)\n",
    "        if f1 > best_score:\n",
    "            best_k = k\n",
    "            best_score = f1\n",
    "    \n",
    "    print(\"Best Value for k: {}\".format(best_k))\n",
    "    print(\"F1-Score: {}\".format(best_score))"
   ]
  },
  {
   "cell_type": "code",
   "execution_count": 29,
   "metadata": {},
   "outputs": [
    {
     "name": "stdout",
     "output_type": "stream",
     "text": [
      "Best Value for k: 13\n",
      "F1-Score: 0.44497799119647863\n"
     ]
    }
   ],
   "source": [
    "#Find optimal K for our dataset \n",
    "find_best_k(X_train_scaled, y_train, X_test_scaled, y_test)\n"
   ]
  },
  {
   "cell_type": "code",
   "execution_count": 30,
   "metadata": {
    "scrolled": false
   },
   "outputs": [],
   "source": [
    "#redo model fit with K=13\n",
    "\n",
    "knnmodel2 = KNeighborsClassifier(n_neighbors=13)\n",
    "knnmodel2.fit(X_train_scaled, y_train)\n",
    "\n",
    "y_predict_test2 = knnmodel2.predict(X_test_scaled)\n",
    "y_predict_train2 = knnmodel2.predict(X_train_scaled)\n"
   ]
  },
  {
   "cell_type": "code",
   "execution_count": 31,
   "metadata": {},
   "outputs": [
    {
     "name": "stdout",
     "output_type": "stream",
     "text": [
      "\n",
      "\n",
      "Train Score Results\n",
      "              precision    recall  f1-score   support\n",
      "\n",
      "           0       0.84      0.95      0.89     17496\n",
      "           1       0.69      0.36      0.47      5004\n",
      "\n",
      "    accuracy                           0.82     22500\n",
      "   macro avg       0.77      0.66      0.68     22500\n",
      "weighted avg       0.81      0.82      0.80     22500\n",
      "\n",
      "Train Set Accuracy: 0.8219\n",
      "Train Set Precision: 0.6933\n",
      "Train Set Recall: 0.3573\n",
      "Train Set F1-Score: 0.4716\n",
      "\n",
      "\n",
      "Test Score Results\n",
      "              precision    recall  f1-score   support\n",
      "\n",
      "           0       0.84      0.95      0.89      5868\n",
      "           1       0.64      0.34      0.44      1632\n",
      "\n",
      "    accuracy                           0.82      7500\n",
      "   macro avg       0.74      0.64      0.67      7500\n",
      "weighted avg       0.80      0.82      0.79      7500\n",
      "\n",
      "Test Set Accuracy: 0.8151\n",
      "Test Set Precision: 0.6413\n",
      "Test Set Recall: 0.3407\n",
      "Test Set F1-Score: 0.4450\n",
      "\n",
      "\n",
      "Test Set Confusion Matrix\n"
     ]
    },
    {
     "data": {
      "image/png": "[encoded data removed]",
      "text/plain": [
       "<Figure size 432x288 with 2 Axes>"
      ]
     },
     "metadata": {},
     "output_type": "display_data"
    }
   ],
   "source": [
    "performance_results(X_train_scaled, y_train, y_predict_train2, X_test_scaled, y_test, y_predict_test2, knnmodel2)"
   ]
  },
  {
   "cell_type": "markdown",
   "metadata": {},
   "source": [
    "### 4. Bayes Classification Model"
   ]
  },
  {
   "cell_type": "code",
   "execution_count": 32,
   "metadata": {},
   "outputs": [],
   "source": [
    "#Instansiate the model \n",
    "bayes = GaussianNB()"
   ]
  },
  {
   "cell_type": "code",
   "execution_count": 33,
   "metadata": {},
   "outputs": [
    {
     "data": {
      "text/plain": [
       "GaussianNB()"
      ]
     },
     "execution_count": 33,
     "metadata": {},
     "output_type": "execute_result"
    }
   ],
   "source": [
    "#Fit the model, using the UNscaled X_train \n",
    "bayes.fit(X_train, y_train)"
   ]
  },
  {
   "cell_type": "code",
   "execution_count": 34,
   "metadata": {},
   "outputs": [],
   "source": [
    "#Predict the model \n",
    "test_preds = bayes.predict(X_test)\n",
    "train_preds = bayes.predict(X_train)"
   ]
  },
  {
   "cell_type": "code",
   "execution_count": 35,
   "metadata": {},
   "outputs": [
    {
     "name": "stdout",
     "output_type": "stream",
     "text": [
      "\n",
      "\n",
      "Train Score Results\n",
      "              precision    recall  f1-score   support\n",
      "\n",
      "           0       0.79      0.97      0.87     17496\n",
      "           1       0.42      0.07      0.12      5004\n",
      "\n",
      "    accuracy                           0.77     22500\n",
      "   macro avg       0.60      0.52      0.50     22500\n",
      "weighted avg       0.70      0.77      0.70     22500\n",
      "\n",
      "Train Set Accuracy: 0.7713\n",
      "Train Set Precision: 0.4181\n",
      "Train Set Recall: 0.0719\n",
      "Train Set F1-Score: 0.1228\n",
      "\n",
      "\n",
      "Test Score Results\n",
      "              precision    recall  f1-score   support\n",
      "\n",
      "           0       0.79      0.97      0.87      5868\n",
      "           1       0.44      0.08      0.14      1632\n",
      "\n",
      "    accuracy                           0.78      7500\n",
      "   macro avg       0.61      0.53      0.51      7500\n",
      "weighted avg       0.71      0.78      0.71      7500\n",
      "\n",
      "Test Set Accuracy: 0.7771\n",
      "Test Set Precision: 0.4355\n",
      "Test Set Recall: 0.0827\n",
      "Test Set F1-Score: 0.1390\n",
      "\n",
      "\n",
      "Test Set Confusion Matrix\n"
     ]
    },
    {
     "data": {
      "image/png": "[encoded data removed]",
      "text/plain": [
       "<Figure size 432x288 with 2 Axes>"
      ]
     },
     "metadata": {},
     "output_type": "display_data"
    }
   ],
   "source": [
    "#Evaluate performance results\n",
    "performance_results(X_train, y_train, train_preds, X_test, y_test, test_preds, bayes)"
   ]
  },
  {
   "cell_type": "markdown",
   "metadata": {},
   "source": [
    "### 5. Decision Tree"
   ]
  },
  {
   "cell_type": "markdown",
   "metadata": {},
   "source": [
    "### a. Classification"
   ]
  },
  {
   "cell_type": "markdown",
   "metadata": {},
   "source": [
    "#### Model 1"
   ]
  },
  {
   "cell_type": "code",
   "execution_count": 36,
   "metadata": {},
   "outputs": [
    {
     "data": {
      "text/plain": [
       "DecisionTreeClassifier(random_state=10)"
      ]
     },
     "execution_count": 36,
     "metadata": {},
     "output_type": "execute_result"
    }
   ],
   "source": [
    "#Instantiate the classifier and fit the data\n",
    "decisiontree = DecisionTreeClassifier(random_state=10)\n",
    "decisiontree.fit(X_train, y_train)"
   ]
  },
  {
   "cell_type": "code",
   "execution_count": 37,
   "metadata": {},
   "outputs": [],
   "source": [
    "#predict the train and test data\n",
    "y_preds = decisiontree.predict(X_test)\n",
    "y_preds2 = decisiontree.predict(X_train)"
   ]
  },
  {
   "cell_type": "code",
   "execution_count": 38,
   "metadata": {},
   "outputs": [
    {
     "name": "stdout",
     "output_type": "stream",
     "text": [
      "\n",
      "\n",
      "Train Score Results\n",
      "              precision    recall  f1-score   support\n",
      "\n",
      "           0       1.00      1.00      1.00     17496\n",
      "           1       1.00      1.00      1.00      5004\n",
      "\n",
      "    accuracy                           1.00     22500\n",
      "   macro avg       1.00      1.00      1.00     22500\n",
      "weighted avg       1.00      1.00      1.00     22500\n",
      "\n",
      "Train Set Accuracy: 0.9992\n",
      "Train Set Precision: 0.9992\n",
      "Train Set Recall: 0.9970\n",
      "Train Set F1-Score: 0.9981\n",
      "\n",
      "\n",
      "Test Score Results\n",
      "              precision    recall  f1-score   support\n",
      "\n",
      "           0       0.83      0.81      0.82      5868\n",
      "           1       0.37      0.40      0.38      1632\n",
      "\n",
      "    accuracy                           0.72      7500\n",
      "   macro avg       0.60      0.60      0.60      7500\n",
      "weighted avg       0.73      0.72      0.72      7500\n",
      "\n",
      "Test Set Accuracy: 0.7193\n",
      "Test Set Precision: 0.3674\n",
      "Test Set Recall: 0.4013\n",
      "Test Set F1-Score: 0.3836\n",
      "\n",
      "\n",
      "Test Set Confusion Matrix\n"
     ]
    },
    {
     "data": {
      "image/png": "[encoded data removed]",
      "text/plain": [
       "<Figure size 432x288 with 2 Axes>"
      ]
     },
     "metadata": {},
     "output_type": "display_data"
    }
   ],
   "source": [
    "performance_results(X_train, y_train, y_preds2, X_test, y_test, y_preds, decisiontree)"
   ]
  },
  {
   "cell_type": "markdown",
   "metadata": {},
   "source": [
    "#### Model 2"
   ]
  },
  {
   "cell_type": "code",
   "execution_count": 39,
   "metadata": {},
   "outputs": [
    {
     "data": {
      "text/plain": [
       "DecisionTreeClassifier(criterion='entropy', random_state=10)"
      ]
     },
     "execution_count": 39,
     "metadata": {},
     "output_type": "execute_result"
    }
   ],
   "source": [
    "#Retry the classifier with Entropy\n",
    "\n",
    "decisiontree2 = DecisionTreeClassifier(criterion='entropy', random_state=10)\n",
    "decisiontree2.fit(X_train, y_train)"
   ]
  },
  {
   "cell_type": "code",
   "execution_count": 40,
   "metadata": {},
   "outputs": [],
   "source": [
    "#predict the train and test data\n",
    "y_ent_preds = decisiontree2.predict(X_test)\n",
    "y_ent_preds2 = decisiontree2.predict(X_train)"
   ]
  },
  {
   "cell_type": "code",
   "execution_count": 41,
   "metadata": {},
   "outputs": [
    {
     "name": "stdout",
     "output_type": "stream",
     "text": [
      "\n",
      "\n",
      "Train Score Results\n",
      "              precision    recall  f1-score   support\n",
      "\n",
      "           0       1.00      1.00      1.00     17496\n",
      "           1       1.00      1.00      1.00      5004\n",
      "\n",
      "    accuracy                           1.00     22500\n",
      "   macro avg       1.00      1.00      1.00     22500\n",
      "weighted avg       1.00      1.00      1.00     22500\n",
      "\n",
      "Train Set Accuracy: 0.9992\n",
      "Train Set Precision: 0.9992\n",
      "Train Set Recall: 0.9970\n",
      "Train Set F1-Score: 0.9981\n",
      "\n",
      "\n",
      "Test Score Results\n",
      "              precision    recall  f1-score   support\n",
      "\n",
      "           0       0.83      0.82      0.82      5868\n",
      "           1       0.38      0.40      0.39      1632\n",
      "\n",
      "    accuracy                           0.73      7500\n",
      "   macro avg       0.60      0.61      0.61      7500\n",
      "weighted avg       0.73      0.73      0.73      7500\n",
      "\n",
      "Test Set Accuracy: 0.7264\n",
      "Test Set Precision: 0.3778\n",
      "Test Set Recall: 0.3977\n",
      "Test Set F1-Score: 0.3875\n",
      "\n",
      "\n",
      "Test Set Confusion Matrix\n"
     ]
    },
    {
     "data": {
      "image/png": "[encoded data removed]",
      "text/plain": [
       "<Figure size 432x288 with 2 Axes>"
      ]
     },
     "metadata": {},
     "output_type": "display_data"
    }
   ],
   "source": [
    "#Evaluate the results \n",
    "performance_results(X_train, y_train, y_ent_preds2, X_test, y_test, y_ent_preds, decisiontree2)"
   ]
  },
  {
   "cell_type": "markdown",
   "metadata": {},
   "source": [
    "Accuracy score for the test set using entropy, with a result of 0.7263, is higher than test set accuracy score under gini, with an accuracy score of 0.7189."
   ]
  },
  {
   "cell_type": "markdown",
   "metadata": {},
   "source": [
    "#### Model 3"
   ]
  },
  {
   "cell_type": "code",
   "execution_count": 42,
   "metadata": {},
   "outputs": [
    {
     "data": {
      "text/plain": [
       "DecisionTreeClassifier(criterion='entropy', max_depth=3, random_state=10)"
      ]
     },
     "execution_count": 42,
     "metadata": {},
     "output_type": "execute_result"
    }
   ],
   "source": [
    "#Tune the max_depth hyperparameter to see if it improves results \n",
    "decisiontree3 = DecisionTreeClassifier(random_state=10, criterion=\"entropy\", max_depth=3)\n",
    "decisiontree3.fit(X_train, y_train)"
   ]
  },
  {
   "cell_type": "code",
   "execution_count": 43,
   "metadata": {},
   "outputs": [],
   "source": [
    "#predict the train and test data\n",
    "y_testpreds = decisiontree3.predict(X_test)\n",
    "y_trainpreds = decisiontree3.predict(X_train)"
   ]
  },
  {
   "cell_type": "code",
   "execution_count": 44,
   "metadata": {},
   "outputs": [
    {
     "name": "stdout",
     "output_type": "stream",
     "text": [
      "\n",
      "\n",
      "Train Score Results\n",
      "              precision    recall  f1-score   support\n",
      "\n",
      "           0       0.83      0.96      0.89     17496\n",
      "           1       0.71      0.32      0.44      5004\n",
      "\n",
      "    accuracy                           0.82     22500\n",
      "   macro avg       0.77      0.64      0.66     22500\n",
      "weighted avg       0.80      0.82      0.79     22500\n",
      "\n",
      "Train Set Accuracy: 0.8189\n",
      "Train Set Precision: 0.7076\n",
      "Train Set Recall: 0.3167\n",
      "Train Set F1-Score: 0.4376\n",
      "\n",
      "\n",
      "Test Score Results\n",
      "              precision    recall  f1-score   support\n",
      "\n",
      "           0       0.84      0.97      0.90      5868\n",
      "           1       0.73      0.33      0.45      1632\n",
      "\n",
      "    accuracy                           0.83      7500\n",
      "   macro avg       0.78      0.65      0.67      7500\n",
      "weighted avg       0.81      0.83      0.80      7500\n",
      "\n",
      "Test Set Accuracy: 0.8271\n",
      "Test Set Precision: 0.7279\n",
      "Test Set Recall: 0.3278\n",
      "Test Set F1-Score: 0.4520\n",
      "\n",
      "\n",
      "Test Set Confusion Matrix\n"
     ]
    },
    {
     "data": {
      "image/png": "[encoded data removed]",
      "text/plain": [
       "<Figure size 432x288 with 2 Axes>"
      ]
     },
     "metadata": {},
     "output_type": "display_data"
    }
   ],
   "source": [
    "#Evaluate the results \n",
    "performance_results(X_train, y_train, y_trainpreds, X_test, y_test, y_testpreds, decisiontree3)"
   ]
  },
  {
   "cell_type": "markdown",
   "metadata": {},
   "source": [
    "Accuracy for the test data did improve, from 72.6% in previous model to 83% when max depth is set to 3."
   ]
  },
  {
   "cell_type": "code",
   "execution_count": 45,
   "metadata": {},
   "outputs": [
    {
     "data": {
      "image/png": "[encoded data removed]",
      "text/plain": [
       "<IPython.core.display.Image object>"
      ]
     },
     "execution_count": 45,
     "metadata": {},
     "output_type": "execute_result"
    }
   ],
   "source": [
    "# Plot and show decision tree\n",
    "\n",
    "dot_data = StringIO()\n",
    "export_graphviz(decisiontree3, out_file=dot_data,  \n",
    "                special_characters=True)\n",
    "graph = pydotplus.graph_from_dot_data(dot_data.getvalue())  \n",
    "Image(graph.create_png())"
   ]
  },
  {
   "cell_type": "markdown",
   "metadata": {},
   "source": [
    "### b. Regression"
   ]
  },
  {
   "cell_type": "markdown",
   "metadata": {},
   "source": [
    "#### Model 1"
   ]
  },
  {
   "cell_type": "code",
   "execution_count": 46,
   "metadata": {},
   "outputs": [
    {
     "data": {
      "text/plain": [
       "DecisionTreeRegressor(random_state=45)"
      ]
     },
     "execution_count": 46,
     "metadata": {},
     "output_type": "execute_result"
    }
   ],
   "source": [
    "#Instansiate and fit the model\n",
    "regressor = DecisionTreeRegressor(random_state=45)\n",
    "regressor.fit(X_train, y_train)"
   ]
  },
  {
   "cell_type": "code",
   "execution_count": 47,
   "metadata": {},
   "outputs": [],
   "source": [
    "#predict the model\n",
    "reg_preds = regressor.predict(X_test)"
   ]
  },
  {
   "cell_type": "code",
   "execution_count": 48,
   "metadata": {
    "scrolled": true
   },
   "outputs": [
    {
     "name": "stdout",
     "output_type": "stream",
     "text": [
      "Mean Absolute Error: 0.2780222222222222\n",
      "Mean Squared Error: 0.2776925925925926\n",
      "Root Mean Squared Error: 0.5269654567356314\n"
     ]
    }
   ],
   "source": [
    "#Evaluate the results: MAE, MSE, RMSE \n",
    "print('Mean Absolute Error:', mean_absolute_error(y_test, reg_preds))  \n",
    "print('Mean Squared Error:', mean_squared_error(y_test, reg_preds))  \n",
    "print('Root Mean Squared Error:', np.sqrt(mean_squared_error(y_test, reg_preds)))"
   ]
  },
  {
   "cell_type": "markdown",
   "metadata": {},
   "source": [
    "#### Model 2"
   ]
  },
  {
   "cell_type": "code",
   "execution_count": 49,
   "metadata": {},
   "outputs": [
    {
     "data": {
      "text/plain": [
       "DecisionTreeRegressor(max_depth=3, min_samples_split=5, random_state=45)"
      ]
     },
     "execution_count": 49,
     "metadata": {},
     "output_type": "execute_result"
    }
   ],
   "source": [
    "#Instansiate and fit the model with some hyperparameters (note these values are arbitrary for the moment)\n",
    "regressor2 = DecisionTreeRegressor(random_state=45, max_depth=3, min_samples_split=5)\n",
    "regressor2.fit(X_train, y_train)"
   ]
  },
  {
   "cell_type": "code",
   "execution_count": 50,
   "metadata": {},
   "outputs": [],
   "source": [
    "#predict the model\n",
    "reg_preds2 = regressor2.predict(X_test)"
   ]
  },
  {
   "cell_type": "code",
   "execution_count": 51,
   "metadata": {},
   "outputs": [
    {
     "name": "stdout",
     "output_type": "stream",
     "text": [
      "Mean Absolute Error: 0.27713287827399025\n",
      "Mean Squared Error: 0.1367766321520286\n",
      "Root Mean Squared Error: 0.3698332491164479\n"
     ]
    }
   ],
   "source": [
    "#Evaluate the results: MAE, MSE, RMSE \n",
    "print('Mean Absolute Error:', mean_absolute_error(y_test, reg_preds2))  \n",
    "print('Mean Squared Error:', mean_squared_error(y_test, reg_preds2))  \n",
    "print('Root Mean Squared Error:', np.sqrt(mean_squared_error(y_test, reg_preds2)))"
   ]
  },
  {
   "cell_type": "markdown",
   "metadata": {},
   "source": [
    "Including these hyperparameters caued our MAE, MSE and RMSE to decrease. "
   ]
  },
  {
   "cell_type": "markdown",
   "metadata": {},
   "source": [
    "### 6. Ensemble Methods"
   ]
  },
  {
   "cell_type": "markdown",
   "metadata": {},
   "source": [
    "#### a. Bagging Method"
   ]
  },
  {
   "cell_type": "code",
   "execution_count": 52,
   "metadata": {
    "scrolled": true
   },
   "outputs": [
    {
     "data": {
      "text/plain": [
       "BaggingClassifier(base_estimator=DecisionTreeClassifier(max_depth=5),\n",
       "                  n_estimators=20)"
      ]
     },
     "execution_count": 52,
     "metadata": {},
     "output_type": "execute_result"
    }
   ],
   "source": [
    "#Instansiate and fit the model, choose a few hyperparameters to run through \n",
    "bagged_tree = BaggingClassifier(DecisionTreeClassifier(criterion='gini', max_depth=5), n_estimators=20)\n",
    "bagged_tree.fit(X_train, y_train)"
   ]
  },
  {
   "cell_type": "code",
   "execution_count": 53,
   "metadata": {},
   "outputs": [],
   "source": [
    "#make predictions\n",
    "baggedpreds_train = bagged_tree.predict(X_train)\n",
    "baggedpreds_test = bagged_tree.predict(X_test)"
   ]
  },
  {
   "cell_type": "code",
   "execution_count": 54,
   "metadata": {},
   "outputs": [
    {
     "name": "stdout",
     "output_type": "stream",
     "text": [
      "\n",
      "\n",
      "Train Score Results\n",
      "              precision    recall  f1-score   support\n",
      "\n",
      "           0       0.83      0.96      0.89     17496\n",
      "           1       0.71      0.32      0.44      5004\n",
      "\n",
      "    accuracy                           0.82     22500\n",
      "   macro avg       0.77      0.64      0.67     22500\n",
      "weighted avg       0.81      0.82      0.79     22500\n",
      "\n",
      "Train Set Accuracy: 0.8200\n",
      "Train Set Precision: 0.7084\n",
      "Train Set Recall: 0.3243\n",
      "Train Set F1-Score: 0.4450\n",
      "\n",
      "\n",
      "Test Score Results\n",
      "              precision    recall  f1-score   support\n",
      "\n",
      "           0       0.84      0.96      0.90      5868\n",
      "           1       0.72      0.33      0.46      1632\n",
      "\n",
      "    accuracy                           0.83      7500\n",
      "   macro avg       0.78      0.65      0.68      7500\n",
      "weighted avg       0.81      0.83      0.80      7500\n",
      "\n",
      "Test Set Accuracy: 0.8268\n",
      "Test Set Precision: 0.7205\n",
      "Test Set Recall: 0.3333\n",
      "Test Set F1-Score: 0.4558\n",
      "\n",
      "\n",
      "Test Set Confusion Matrix\n"
     ]
    },
    {
     "data": {
      "image/png": "[encoded data removed]",
      "text/plain": [
       "<Figure size 432x288 with 2 Axes>"
      ]
     },
     "metadata": {},
     "output_type": "display_data"
    }
   ],
   "source": [
    "performance_results(X_train, y_train, baggedpreds_train, X_test, y_test, baggedpreds_test, bagged_tree)"
   ]
  },
  {
   "cell_type": "markdown",
   "metadata": {},
   "source": [
    "#### b. Random Forest"
   ]
  },
  {
   "cell_type": "code",
   "execution_count": 55,
   "metadata": {},
   "outputs": [
    {
     "data": {
      "text/plain": [
       "RandomForestClassifier(max_depth=5, max_features=5, n_estimators=5)"
      ]
     },
     "execution_count": 55,
     "metadata": {},
     "output_type": "execute_result"
    }
   ],
   "source": [
    "#instansiate the model, choose some hyperparameters to run through, then fit \n",
    "randomforest = RandomForestClassifier(max_depth=5, criterion='gini', n_estimators=5, max_features=5)\n",
    "randomforest.fit(X_train, y_train)"
   ]
  },
  {
   "cell_type": "code",
   "execution_count": 56,
   "metadata": {},
   "outputs": [],
   "source": [
    "#Make predictions on the model\n",
    "rftrain = randomforest.predict(X_train)\n",
    "rftest = randomforest.predict(X_test)"
   ]
  },
  {
   "cell_type": "code",
   "execution_count": 57,
   "metadata": {},
   "outputs": [
    {
     "name": "stdout",
     "output_type": "stream",
     "text": [
      "\n",
      "\n",
      "Train Score Results\n",
      "              precision    recall  f1-score   support\n",
      "\n",
      "           0       0.83      0.96      0.89     17496\n",
      "           1       0.71      0.33      0.45      5004\n",
      "\n",
      "    accuracy                           0.82     22500\n",
      "   macro avg       0.77      0.64      0.67     22500\n",
      "weighted avg       0.81      0.82      0.79     22500\n",
      "\n",
      "Train Set Accuracy: 0.8206\n",
      "Train Set Precision: 0.7109\n",
      "Train Set Recall: 0.3257\n",
      "Train Set F1-Score: 0.4468\n",
      "\n",
      "\n",
      "Test Score Results\n",
      "              precision    recall  f1-score   support\n",
      "\n",
      "           0       0.84      0.96      0.90      5868\n",
      "           1       0.72      0.33      0.46      1632\n",
      "\n",
      "    accuracy                           0.83      7500\n",
      "   macro avg       0.78      0.65      0.68      7500\n",
      "weighted avg       0.81      0.83      0.80      7500\n",
      "\n",
      "Test Set Accuracy: 0.8271\n",
      "Test Set Precision: 0.7236\n",
      "Test Set Recall: 0.3321\n",
      "Test Set F1-Score: 0.4553\n",
      "\n",
      "\n",
      "Test Set Confusion Matrix\n"
     ]
    },
    {
     "data": {
      "image/png": "[encoded data removed]",
      "text/plain": [
       "<Figure size 432x288 with 2 Axes>"
      ]
     },
     "metadata": {},
     "output_type": "display_data"
    }
   ],
   "source": [
    "#Evaluate the model\n",
    "\n",
    "performance_results(X_train, y_train, rftrain, X_test, y_test, rftest, randomforest)"
   ]
  },
  {
   "cell_type": "code",
   "execution_count": 59,
   "metadata": {},
   "outputs": [],
   "source": [
    "# Create graph that shows the feature importances per tree \n",
    "def plot_feature_importances(model):\n",
    "    n_features = X_train.shape[1]\n",
    "    plt.figure(figsize=(8,8))\n",
    "    plt.barh(range(n_features), model.feature_importances_, align='center') \n",
    "    plt.yticks(np.arange(n_features), X_train.columns.values) \n",
    "    plt.xlabel('Feature importance')\n",
    "    plt.ylabel('Feature')"
   ]
  },
  {
   "cell_type": "code",
   "execution_count": 60,
   "metadata": {},
   "outputs": [
    {
     "data": {
      "image/png": "[encoded data removed]",
      "text/plain": [
       "<Figure size 576x576 with 1 Axes>"
      ]
     },
     "metadata": {},
     "output_type": "display_data"
    }
   ],
   "source": [
    "#Look at feature importances of first tree \n",
    "rf_tree1 = randomforest.estimators_[0]\n",
    "plot_feature_importances(rf_tree1)"
   ]
  },
  {
   "cell_type": "code",
   "execution_count": 61,
   "metadata": {},
   "outputs": [
    {
     "data": {
      "image/png": "[encoded data removed]",
      "text/plain": [
       "<Figure size 576x576 with 1 Axes>"
      ]
     },
     "metadata": {},
     "output_type": "display_data"
    }
   ],
   "source": [
    "#Compare this feature importance to second tree \n",
    "rf_tree2 = randomforest.estimators_[1]\n",
    "plot_feature_importances(rf_tree2)"
   ]
  },
  {
   "cell_type": "code",
   "execution_count": 112,
   "metadata": {},
   "outputs": [],
   "source": [
    "# function for creating a feature importance dataframe\n",
    "def features_df(column_names, importances):\n",
    "    df = pd.DataFrame({'feature': column_names,\n",
    "                       'feature_importance': importances}) \\\n",
    "           .sort_values('feature_importance', ascending = False) \\\n",
    "           .reset_index(drop = True)\n",
    "    return df"
   ]
  },
  {
   "cell_type": "code",
   "execution_count": 113,
   "metadata": {},
   "outputs": [
    {
     "data": {
      "text/html": [
       "<div>\n",
       "<style scoped>\n",
       "    .dataframe tbody tr th:only-of-type {\n",
       "        vertical-align: middle;\n",
       "    }\n",
       "\n",
       "    .dataframe tbody tr th {\n",
       "        vertical-align: top;\n",
       "    }\n",
       "\n",
       "    .dataframe thead th {\n",
       "        text-align: right;\n",
       "    }\n",
       "</style>\n",
       "<table border=\"1\" class=\"dataframe\">\n",
       "  <thead>\n",
       "    <tr style=\"text-align: right;\">\n",
       "      <th></th>\n",
       "      <th>feature</th>\n",
       "      <th>feature_importance</th>\n",
       "    </tr>\n",
       "  </thead>\n",
       "  <tbody>\n",
       "    <tr>\n",
       "      <th>0</th>\n",
       "      <td>PAY_0</td>\n",
       "      <td>0.758443</td>\n",
       "    </tr>\n",
       "    <tr>\n",
       "      <th>1</th>\n",
       "      <td>PAY_AMT1</td>\n",
       "      <td>0.107070</td>\n",
       "    </tr>\n",
       "    <tr>\n",
       "      <th>2</th>\n",
       "      <td>LIMIT_BAL</td>\n",
       "      <td>0.067132</td>\n",
       "    </tr>\n",
       "    <tr>\n",
       "      <th>3</th>\n",
       "      <td>BILL_AMT1</td>\n",
       "      <td>0.043633</td>\n",
       "    </tr>\n",
       "    <tr>\n",
       "      <th>4</th>\n",
       "      <td>EDUCATION</td>\n",
       "      <td>0.011246</td>\n",
       "    </tr>\n",
       "    <tr>\n",
       "      <th>5</th>\n",
       "      <td>AGE</td>\n",
       "      <td>0.010772</td>\n",
       "    </tr>\n",
       "    <tr>\n",
       "      <th>6</th>\n",
       "      <td>SEX</td>\n",
       "      <td>0.001013</td>\n",
       "    </tr>\n",
       "    <tr>\n",
       "      <th>7</th>\n",
       "      <td>MARRIAGE</td>\n",
       "      <td>0.000690</td>\n",
       "    </tr>\n",
       "  </tbody>\n",
       "</table>\n",
       "</div>"
      ],
      "text/plain": [
       "     feature  feature_importance\n",
       "0      PAY_0            0.758443\n",
       "1   PAY_AMT1            0.107070\n",
       "2  LIMIT_BAL            0.067132\n",
       "3  BILL_AMT1            0.043633\n",
       "4  EDUCATION            0.011246\n",
       "5        AGE            0.010772\n",
       "6        SEX            0.001013\n",
       "7   MARRIAGE            0.000690"
      ]
     },
     "execution_count": 113,
     "metadata": {},
     "output_type": "execute_result"
    }
   ],
   "source": [
    "#Look at feature importance \n",
    "overall_features = features_df(X_train.columns, randomforest.feature_importances_)\n",
    "overall_features"
   ]
  },
  {
   "cell_type": "code",
   "execution_count": 114,
   "metadata": {},
   "outputs": [],
   "source": [
    "# function for plotting a feature importance histogram\n",
    "def features_plot(df, title):\n",
    "    df.columns = ['feature', 'feature_importance']\n",
    "    sns.barplot(x = 'feature_importance', y = 'feature', data = df, orient = 'h', color = 'blue') \\\n",
    "       .set_title(title, fontsize = 20)"
   ]
  },
  {
   "cell_type": "code",
   "execution_count": 115,
   "metadata": {},
   "outputs": [
    {
     "data": {
      "image/png": "[encoded data removed]",
      "text/plain": [
       "<Figure size 432x288 with 1 Axes>"
      ]
     },
     "metadata": {},
     "output_type": "display_data"
    }
   ],
   "source": [
    "features_plot(overall_features, 'Feature Importances')"
   ]
  },
  {
   "cell_type": "code",
   "execution_count": 62,
   "metadata": {},
   "outputs": [
    {
     "data": {
      "text/plain": [
       "0.8088888888888889"
      ]
     },
     "execution_count": 62,
     "metadata": {},
     "output_type": "execute_result"
    }
   ],
   "source": [
    "#Look at GridSearch to improve the Random Tree model \n",
    "rfc = RandomForestClassifier()\n",
    "mean_rf_cv_score = np.mean(cross_val_score(rfc, X_train, y_train, cv=3))\n",
    "mean_rf_cv_score"
   ]
  },
  {
   "cell_type": "markdown",
   "metadata": {},
   "source": [
    "Our base model has a mean cross validation score of approximately 80.8%."
   ]
  },
  {
   "cell_type": "code",
   "execution_count": 63,
   "metadata": {},
   "outputs": [
    {
     "data": {
      "text/plain": [
       "GridSearchCV(cv=3, estimator=RandomForestClassifier(),\n",
       "             param_grid={'criterion': ['gini', 'entropy'],\n",
       "                         'max_depth': [1, 2, 5, 10],\n",
       "                         'min_samples_leaf': [1, 2, 3, 4, 5, 6],\n",
       "                         'min_samples_split': [1, 5, 10, 20]},\n",
       "             return_train_score=True)"
      ]
     },
     "execution_count": 63,
     "metadata": {},
     "output_type": "execute_result"
    }
   ],
   "source": [
    "#Define the parameters to be looked at, then fit the Grid Search on the training data\n",
    "\n",
    "param_grid = {\n",
    "    'criterion': ['gini', 'entropy'],\n",
    "    'max_depth': [1, 2, 5, 10],\n",
    "    'min_samples_split': [1, 5, 10, 20],\n",
    "    'min_samples_leaf': [1, 2, 3, 4, 5, 6]\n",
    "}\n",
    "\n",
    "gs_tree = GridSearchCV(rfc, param_grid, cv=3, return_train_score=True)\n",
    "gs_tree.fit(X_train, y_train)\n"
   ]
  },
  {
   "cell_type": "code",
   "execution_count": 64,
   "metadata": {
    "scrolled": true
   },
   "outputs": [
    {
     "name": "stdout",
     "output_type": "stream",
     "text": [
      "{'criterion': 'entropy', 'max_depth': 10, 'min_samples_leaf': 3, 'min_samples_split': 5}\n",
      "0.8188\n"
     ]
    }
   ],
   "source": [
    "#Display the best parameter combination found during the search \n",
    "#Print the mean cross-validated score of the best estimator in the search \n",
    "print(gs_tree.best_params_)\n",
    "print(gs_tree.best_score_)"
   ]
  },
  {
   "cell_type": "markdown",
   "metadata": {},
   "source": [
    "The best score that was found in our GridSearch was 81.9%, which is a slight improvement from our base model result of 80.8%."
   ]
  },
  {
   "cell_type": "code",
   "execution_count": 65,
   "metadata": {},
   "outputs": [
    {
     "name": "stdout",
     "output_type": "stream",
     "text": [
      "Mean Train Score: nan%\n",
      "Mean Test Score: 82.76%\n"
     ]
    }
   ],
   "source": [
    "#Find the accuracy of the various grid search models on the train set and test set\n",
    "gs_train_score = np.mean(gs_tree.cv_results_['mean_train_score'])\n",
    "gs_test_score = gs_tree.score(X_test, y_test)\n",
    "print(f\"Mean Train Score: {gs_train_score :.2%}\")\n",
    "print(f\"Mean Test Score: {gs_test_score :.2%}\")"
   ]
  },
  {
   "cell_type": "markdown",
   "metadata": {},
   "source": [
    "The mean train score and the mean test score of our GridSearch etc.. "
   ]
  },
  {
   "cell_type": "markdown",
   "metadata": {},
   "source": [
    "### 7. Boosting"
   ]
  },
  {
   "cell_type": "markdown",
   "metadata": {},
   "source": [
    "#### a. Adaboost"
   ]
  },
  {
   "cell_type": "code",
   "execution_count": 66,
   "metadata": {},
   "outputs": [
    {
     "data": {
      "text/plain": [
       "AdaBoostClassifier(random_state=42)"
      ]
     },
     "execution_count": 66,
     "metadata": {},
     "output_type": "execute_result"
    }
   ],
   "source": [
    "#Instansiate and fit the model\n",
    "adb = AdaBoostClassifier(random_state=42)\n",
    "adb.fit(X_train, y_train)"
   ]
  },
  {
   "cell_type": "code",
   "execution_count": 67,
   "metadata": {},
   "outputs": [],
   "source": [
    "#Predict the model\n",
    "adb_train = adb.predict(X_train)\n",
    "adb_test = adb.predict(X_test)"
   ]
  },
  {
   "cell_type": "code",
   "execution_count": 68,
   "metadata": {},
   "outputs": [
    {
     "name": "stdout",
     "output_type": "stream",
     "text": [
      "\n",
      "\n",
      "Train Score Results\n",
      "              precision    recall  f1-score   support\n",
      "\n",
      "           0       0.83      0.96      0.89     17496\n",
      "           1       0.68      0.32      0.44      5004\n",
      "\n",
      "    accuracy                           0.82     22500\n",
      "   macro avg       0.76      0.64      0.66     22500\n",
      "weighted avg       0.80      0.82      0.79     22500\n",
      "\n",
      "Train Set Accuracy: 0.8164\n",
      "Train Set Precision: 0.6841\n",
      "Train Set Recall: 0.3237\n",
      "Train Set F1-Score: 0.4395\n",
      "\n",
      "\n",
      "Test Score Results\n",
      "              precision    recall  f1-score   support\n",
      "\n",
      "           0       0.84      0.96      0.90      5868\n",
      "           1       0.71      0.34      0.46      1632\n",
      "\n",
      "    accuracy                           0.83      7500\n",
      "   macro avg       0.77      0.65      0.68      7500\n",
      "weighted avg       0.81      0.83      0.80      7500\n",
      "\n",
      "Test Set Accuracy: 0.8264\n",
      "Test Set Precision: 0.7094\n",
      "Test Set Recall: 0.3425\n",
      "Test Set F1-Score: 0.4620\n",
      "\n",
      "\n",
      "Test Set Confusion Matrix\n"
     ]
    },
    {
     "data": {
      "image/png": "[encoded data removed]",
      "text/plain": [
       "<Figure size 432x288 with 2 Axes>"
      ]
     },
     "metadata": {},
     "output_type": "display_data"
    }
   ],
   "source": [
    "#Evaluate the results\n",
    "performance_results(X_train, y_train, adb_train, X_test, y_test, adb_test, adb)"
   ]
  },
  {
   "cell_type": "code",
   "execution_count": 69,
   "metadata": {},
   "outputs": [
    {
     "name": "stdout",
     "output_type": "stream",
     "text": [
      "Mean Adaboost Cross-Val Score (k=3):  81.86%\n"
     ]
    }
   ],
   "source": [
    "#Look at another performance measure: mean 3-Fold cross validation score \n",
    "adb_mean_cv = cross_val_score(adb, X, y, cv=3).mean()\n",
    "\n",
    "print(f\"Mean Adaboost Cross-Val Score (k=3): {adb_mean_cv: .2%}\")"
   ]
  },
  {
   "cell_type": "markdown",
   "metadata": {},
   "source": [
    "#### b. Gradient Boosting"
   ]
  },
  {
   "cell_type": "code",
   "execution_count": 70,
   "metadata": {},
   "outputs": [
    {
     "data": {
      "text/plain": [
       "GradientBoostingClassifier(random_state=42)"
      ]
     },
     "execution_count": 70,
     "metadata": {},
     "output_type": "execute_result"
    }
   ],
   "source": [
    "#Instansiate and fit the model\n",
    "gb = GradientBoostingClassifier(random_state=42)\n",
    "gb.fit(X_train, y_train)"
   ]
  },
  {
   "cell_type": "code",
   "execution_count": 71,
   "metadata": {},
   "outputs": [],
   "source": [
    "#Predict the model\n",
    "gb_train = gb.predict(X_train)\n",
    "gb_test = gb.predict(X_test)"
   ]
  },
  {
   "cell_type": "code",
   "execution_count": 72,
   "metadata": {},
   "outputs": [
    {
     "name": "stdout",
     "output_type": "stream",
     "text": [
      "\n",
      "\n",
      "Train Score Results\n",
      "              precision    recall  f1-score   support\n",
      "\n",
      "           0       0.83      0.96      0.89     17496\n",
      "           1       0.71      0.33      0.45      5004\n",
      "\n",
      "    accuracy                           0.82     22500\n",
      "   macro avg       0.77      0.65      0.67     22500\n",
      "weighted avg       0.81      0.82      0.79     22500\n",
      "\n",
      "Train Set Accuracy: 0.8207\n",
      "Train Set Precision: 0.7073\n",
      "Train Set Recall: 0.3307\n",
      "Train Set F1-Score: 0.4507\n",
      "\n",
      "\n",
      "Test Score Results\n",
      "              precision    recall  f1-score   support\n",
      "\n",
      "           0       0.84      0.96      0.90      5868\n",
      "           1       0.72      0.34      0.46      1632\n",
      "\n",
      "    accuracy                           0.83      7500\n",
      "   macro avg       0.78      0.65      0.68      7500\n",
      "weighted avg       0.81      0.83      0.80      7500\n",
      "\n",
      "Test Set Accuracy: 0.8275\n",
      "Test Set Precision: 0.7189\n",
      "Test Set Recall: 0.3401\n",
      "Test Set F1-Score: 0.4617\n",
      "\n",
      "\n",
      "Test Set Confusion Matrix\n"
     ]
    },
    {
     "data": {
      "image/png": "[encoded data removed]",
      "text/plain": [
       "<Figure size 432x288 with 2 Axes>"
      ]
     },
     "metadata": {},
     "output_type": "display_data"
    }
   ],
   "source": [
    "#Evaluate the results \n",
    "performance_results(X_train, y_train, gb_train, X_test, y_test, gb_test, gb)"
   ]
  },
  {
   "cell_type": "code",
   "execution_count": 73,
   "metadata": {},
   "outputs": [
    {
     "name": "stdout",
     "output_type": "stream",
     "text": [
      "Mean Adaboost Cross-Val Score (k=3):  81.98%\n"
     ]
    }
   ],
   "source": [
    "#Look at another performance measure: mean 3-Fold cross validation score \n",
    "gb_mean_cv = cross_val_score(gb, X, y, cv=3).mean()\n",
    "\n",
    "print(f\"Mean Adaboost Cross-Val Score (k=3): {gb_mean_cv: .2%}\")"
   ]
  },
  {
   "cell_type": "markdown",
   "metadata": {},
   "source": [
    "#### c. XGBoost"
   ]
  },
  {
   "cell_type": "code",
   "execution_count": 74,
   "metadata": {},
   "outputs": [
    {
     "data": {
      "text/plain": [
       "XGBClassifier()"
      ]
     },
     "execution_count": 74,
     "metadata": {},
     "output_type": "execute_result"
    }
   ],
   "source": [
    "# Instantiate XGBClassifier\n",
    "xgb = XGBClassifier()\n",
    "xgb.fit(X_train, y_train)"
   ]
  },
  {
   "cell_type": "code",
   "execution_count": 75,
   "metadata": {},
   "outputs": [],
   "source": [
    "#Predict train and test sets\n",
    "xgb_train = xgb.predict(X_train)\n",
    "xgb_test = xgb.predict(X_test)"
   ]
  },
  {
   "cell_type": "code",
   "execution_count": 76,
   "metadata": {},
   "outputs": [
    {
     "name": "stdout",
     "output_type": "stream",
     "text": [
      "\n",
      "\n",
      "Train Score Results\n",
      "              precision    recall  f1-score   support\n",
      "\n",
      "           0       0.83      0.96      0.89     17496\n",
      "           1       0.70      0.32      0.44      5004\n",
      "\n",
      "    accuracy                           0.82     22500\n",
      "   macro avg       0.77      0.64      0.67     22500\n",
      "weighted avg       0.80      0.82      0.79     22500\n",
      "\n",
      "Train Set Accuracy: 0.8192\n",
      "Train Set Precision: 0.7043\n",
      "Train Set Recall: 0.3227\n",
      "Train Set F1-Score: 0.4426\n",
      "\n",
      "\n",
      "Test Score Results\n",
      "              precision    recall  f1-score   support\n",
      "\n",
      "           0       0.84      0.96      0.90      5868\n",
      "           1       0.72      0.33      0.46      1632\n",
      "\n",
      "    accuracy                           0.83      7500\n",
      "   macro avg       0.78      0.65      0.68      7500\n",
      "weighted avg       0.81      0.83      0.80      7500\n",
      "\n",
      "Test Set Accuracy: 0.8269\n",
      "Test Set Precision: 0.7221\n",
      "Test Set Recall: 0.3327\n",
      "Test Set F1-Score: 0.4555\n",
      "\n",
      "\n",
      "Test Set Confusion Matrix\n"
     ]
    },
    {
     "data": {
      "image/png": "[encoded data removed]",
      "text/plain": [
       "<Figure size 432x288 with 2 Axes>"
      ]
     },
     "metadata": {},
     "output_type": "display_data"
    }
   ],
   "source": [
    "#Evaluate performance results \n",
    "performance_results(X_train, y_train, xgb_train, X_test, y_test, xgb_test, xgb)"
   ]
  },
  {
   "cell_type": "code",
   "execution_count": 77,
   "metadata": {},
   "outputs": [],
   "source": [
    "#Tune some of the hyperparameters and see if this improves model\n",
    "#Create the parameter grid to be used in GridSearch\n",
    "param_grid = {\n",
    "    'learning_rate': [0.1, 0.2],\n",
    "    'max_depth': [6],\n",
    "    'min_child_weight': [1, 2],\n",
    "    'subsample': [0.5, 0.7],\n",
    "    'n_estimators': [100],\n",
    "}"
   ]
  },
  {
   "cell_type": "code",
   "execution_count": 78,
   "metadata": {},
   "outputs": [
    {
     "data": {
      "text/plain": [
       "GridSearchCV(estimator=XGBClassifier(), n_jobs=1,\n",
       "             param_grid={'learning_rate': [0.1, 0.2], 'max_depth': [6],\n",
       "                         'min_child_weight': [1, 2], 'n_estimators': [100],\n",
       "                         'subsample': [0.5, 0.7]},\n",
       "             scoring='accuracy')"
      ]
     },
     "execution_count": 78,
     "metadata": {},
     "output_type": "execute_result"
    }
   ],
   "source": [
    "#Instansiate and fit the grid search \n",
    "gs_xgb = GridSearchCV(xgb, param_grid, scoring='accuracy', n_jobs=1, cv=None)\n",
    "gs_xgb.fit(X_train, y_train)"
   ]
  },
  {
   "cell_type": "code",
   "execution_count": 79,
   "metadata": {},
   "outputs": [
    {
     "data": {
      "text/plain": [
       "{'learning_rate': 0.1,\n",
       " 'max_depth': 6,\n",
       " 'min_child_weight': 1,\n",
       " 'n_estimators': 100,\n",
       " 'subsample': 0.5}"
      ]
     },
     "execution_count": 79,
     "metadata": {},
     "output_type": "execute_result"
    }
   ],
   "source": [
    "#Display the optimal parameters\n",
    "gs_xgb.best_params_"
   ]
  },
  {
   "cell_type": "code",
   "execution_count": 80,
   "metadata": {},
   "outputs": [],
   "source": [
    "#Predict the train and test sets \n",
    "gs_xgb_train = gs_xgb.predict(X_train)\n",
    "gs_xgb_test = gs_xgb.predict(X_test)"
   ]
  },
  {
   "cell_type": "code",
   "execution_count": 81,
   "metadata": {
    "scrolled": true
   },
   "outputs": [
    {
     "name": "stdout",
     "output_type": "stream",
     "text": [
      "Train Accuracy Score:\n",
      "0.8332\n",
      "Test Accuracy Score:\n",
      "0.8246666666666667\n"
     ]
    }
   ],
   "source": [
    "#Display the accuracy scores for the train and test predictiosn \n",
    "print(\"Train Accuracy Score:\")\n",
    "print(accuracy_score(y_train, gs_xgb_train))\n",
    "print(\"Test Accuracy Score:\")\n",
    "print(accuracy_score(y_test, gs_xgb_test))"
   ]
  },
  {
   "cell_type": "markdown",
   "metadata": {},
   "source": [
    "### 8. Support Vector Machines"
   ]
  },
  {
   "cell_type": "markdown",
   "metadata": {},
   "source": [
    "#### a. Linear Kernel"
   ]
  },
  {
   "cell_type": "code",
   "execution_count": 82,
   "metadata": {},
   "outputs": [
    {
     "data": {
      "text/plain": [
       "SVC(C=1000)"
      ]
     },
     "execution_count": 82,
     "metadata": {},
     "output_type": "execute_result"
    }
   ],
   "source": [
    "#Instansiate and fit the model\n",
    "svclassifier = SVC(C=1000)\n",
    "svclassifier.fit(X_train, y_train)"
   ]
  },
  {
   "cell_type": "code",
   "execution_count": 83,
   "metadata": {},
   "outputs": [],
   "source": [
    "#make predictions \n",
    "sv_trainpred = svclassifier.predict(X_train)\n",
    "sv_testpred = svclassifier.predict(X_test)"
   ]
  },
  {
   "cell_type": "code",
   "execution_count": 84,
   "metadata": {},
   "outputs": [
    {
     "name": "stdout",
     "output_type": "stream",
     "text": [
      "\n",
      "\n",
      "Train Score Results\n",
      "              precision    recall  f1-score   support\n",
      "\n",
      "           0       0.78      1.00      0.88     17496\n",
      "           1       0.83      0.00      0.00      5004\n",
      "\n",
      "    accuracy                           0.78     22500\n",
      "   macro avg       0.81      0.50      0.44     22500\n",
      "weighted avg       0.79      0.78      0.68     22500\n",
      "\n",
      "Train Set Accuracy: 0.7780\n",
      "Train Set Precision: 0.8333\n",
      "Train Set Recall: 0.0020\n",
      "Train Set F1-Score: 0.0040\n",
      "\n",
      "\n",
      "Test Score Results\n",
      "              precision    recall  f1-score   support\n",
      "\n",
      "           0       0.78      1.00      0.88      5868\n",
      "           1       0.33      0.00      0.00      1632\n",
      "\n",
      "    accuracy                           0.78      7500\n",
      "   macro avg       0.56      0.50      0.44      7500\n",
      "weighted avg       0.68      0.78      0.69      7500\n",
      "\n",
      "Test Set Accuracy: 0.7821\n",
      "Test Set Precision: 0.3333\n",
      "Test Set Recall: 0.0012\n",
      "Test Set F1-Score: 0.0024\n",
      "\n",
      "\n",
      "Test Set Confusion Matrix\n"
     ]
    },
    {
     "data": {
      "image/png": "[encoded data removed]",
      "text/plain": [
       "<Figure size 432x288 with 2 Axes>"
      ]
     },
     "metadata": {},
     "output_type": "display_data"
    }
   ],
   "source": [
    "performance_results(X_train, y_train, sv_trainpred, X_test, y_test, sv_testpred, svclassifier)"
   ]
  },
  {
   "cell_type": "markdown",
   "metadata": {},
   "source": [
    "#### b. Nonlinear Kernel"
   ]
  },
  {
   "cell_type": "code",
   "execution_count": 85,
   "metadata": {},
   "outputs": [
    {
     "name": "stdout",
     "output_type": "stream",
     "text": [
      "run time is 48.983971118927 seconds\n"
     ]
    }
   ],
   "source": [
    "#Instantiate the classifier, fit and predict variables, include \"time\" to see how long model took to run \n",
    "tic = time()\n",
    "svclassifier2 = SVC(kernel='rbf', C=1000, gamma=10)  \n",
    "svclassifier2.fit(X_train, y_train) \n",
    "nlk_train = svclassifier2.predict(X_train)\n",
    "nlk_test = svclassifier2.predict(X_test)\n",
    "toc = time()\n",
    "print(\"run time is {} seconds\".format(toc-tic))"
   ]
  },
  {
   "cell_type": "code",
   "execution_count": 86,
   "metadata": {},
   "outputs": [
    {
     "name": "stdout",
     "output_type": "stream",
     "text": [
      "\n",
      "\n",
      "Train Score Results\n",
      "              precision    recall  f1-score   support\n",
      "\n",
      "           0       1.00      1.00      1.00     17496\n",
      "           1       1.00      1.00      1.00      5004\n",
      "\n",
      "    accuracy                           1.00     22500\n",
      "   macro avg       1.00      1.00      1.00     22500\n",
      "weighted avg       1.00      1.00      1.00     22500\n",
      "\n",
      "Train Set Accuracy: 0.9992\n",
      "Train Set Precision: 0.9992\n",
      "Train Set Recall: 0.9970\n",
      "Train Set F1-Score: 0.9981\n",
      "\n",
      "\n",
      "Test Score Results\n",
      "              precision    recall  f1-score   support\n",
      "\n",
      "           0       0.78      1.00      0.88      5868\n",
      "           1       0.41      0.01      0.01      1632\n",
      "\n",
      "    accuracy                           0.78      7500\n",
      "   macro avg       0.60      0.50      0.44      7500\n",
      "weighted avg       0.70      0.78      0.69      7500\n",
      "\n",
      "Test Set Accuracy: 0.7819\n",
      "Test Set Precision: 0.4091\n",
      "Test Set Recall: 0.0055\n",
      "Test Set F1-Score: 0.0109\n",
      "\n",
      "\n",
      "Test Set Confusion Matrix\n"
     ]
    },
    {
     "data": {
      "image/png": "[encoded data removed]",
      "text/plain": [
       "<Figure size 432x288 with 2 Axes>"
      ]
     },
     "metadata": {},
     "output_type": "display_data"
    }
   ],
   "source": [
    "performance_results(X_train, y_train, nlk_train, X_test, y_test, nlk_test, svclassifier2)"
   ]
  },
  {
   "cell_type": "raw",
   "metadata": {},
   "source": []
  }
 ],
 "metadata": {
  "kernelspec": {
   "display_name": "learn-env",
   "language": "python",
   "name": "learn-env"
  },
  "language_info": {
   "codemirror_mode": {
    "name": "ipython",
    "version": 3
   },
   "file_extension": ".py",
   "mimetype": "text/x-python",
   "name": "python",
   "nbconvert_exporter": "python",
   "pygments_lexer": "ipython3",
   "version": "3.6.9"
  }
 },
 "nbformat": 4,
 "nbformat_minor": 4
}
