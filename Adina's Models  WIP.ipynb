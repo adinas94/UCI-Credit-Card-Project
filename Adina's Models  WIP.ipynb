{
 "cells": [
  {
   "cell_type": "markdown",
   "metadata": {},
   "source": [
    "### Data Cleaning"
   ]
  },
  {
   "cell_type": "code",
   "execution_count": 28,
   "metadata": {},
   "outputs": [],
   "source": [
    "#import necessary libraries\n",
    "\n",
    "import pandas as pd\n",
    "import numpy as np\n",
    "import seaborn as sns\n",
    "import matplotlib.pyplot as plt\n",
    "%matplotlib inline\n",
    "import sqlite3\n",
    "import json\n",
    "import requests\n",
    "import time\n",
    "from bs4 import BeautifulSoup\n",
    "import re\n",
    "from numpy.random import normal\n",
    "from scipy.stats import kurtosis, skew\n",
    "import math\n",
    "from statsmodels.formula.api import ols\n",
    "from statsmodels.stats.outliers_influence import variance_inflation_factor\n",
    "import statsmodels.api as sm\n",
    "import scipy.stats as stats\n",
    "from sklearn.model_selection import train_test_split\n",
    "from sklearn.linear_model import LinearRegression, LogisticRegression\n",
    "from sklearn.metrics import mean_squared_error, classification_report, precision_score, recall_score, accuracy_score, f1_score\n",
    "from sklearn.preprocessing import StandardScaler\n",
    "from sklearn.neighbors import KNeighborsClassifier\n",
    "import warnings\n",
    "warnings.filterwarnings('ignore')\n",
    "df = pd.read_csv('UCI_Credit_Card.csv')"
   ]
  },
  {
   "cell_type": "code",
   "execution_count": 2,
   "metadata": {},
   "outputs": [
    {
     "name": "stdout",
     "output_type": "stream",
     "text": [
      "<class 'pandas.core.frame.DataFrame'>\n",
      "RangeIndex: 30000 entries, 0 to 29999\n",
      "Data columns (total 25 columns):\n",
      "ID                            30000 non-null int64\n",
      "LIMIT_BAL                     30000 non-null float64\n",
      "SEX                           30000 non-null int64\n",
      "EDUCATION                     30000 non-null int64\n",
      "MARRIAGE                      30000 non-null int64\n",
      "AGE                           30000 non-null int64\n",
      "PAY_0                         30000 non-null int64\n",
      "PAY_2                         30000 non-null int64\n",
      "PAY_3                         30000 non-null int64\n",
      "PAY_4                         30000 non-null int64\n",
      "PAY_5                         30000 non-null int64\n",
      "PAY_6                         30000 non-null int64\n",
      "BILL_AMT1                     30000 non-null float64\n",
      "BILL_AMT2                     30000 non-null float64\n",
      "BILL_AMT3                     30000 non-null float64\n",
      "BILL_AMT4                     30000 non-null float64\n",
      "BILL_AMT5                     30000 non-null float64\n",
      "BILL_AMT6                     30000 non-null float64\n",
      "PAY_AMT1                      30000 non-null float64\n",
      "PAY_AMT2                      30000 non-null float64\n",
      "PAY_AMT3                      30000 non-null float64\n",
      "PAY_AMT4                      30000 non-null float64\n",
      "PAY_AMT5                      30000 non-null float64\n",
      "PAY_AMT6                      30000 non-null float64\n",
      "default.payment.next.month    30000 non-null int64\n",
      "dtypes: float64(13), int64(12)\n",
      "memory usage: 5.7 MB\n"
     ]
    }
   ],
   "source": [
    "df.info()"
   ]
  },
  {
   "cell_type": "code",
   "execution_count": 3,
   "metadata": {},
   "outputs": [
    {
     "data": {
      "text/html": [
       "<div>\n",
       "<style scoped>\n",
       "    .dataframe tbody tr th:only-of-type {\n",
       "        vertical-align: middle;\n",
       "    }\n",
       "\n",
       "    .dataframe tbody tr th {\n",
       "        vertical-align: top;\n",
       "    }\n",
       "\n",
       "    .dataframe thead th {\n",
       "        text-align: right;\n",
       "    }\n",
       "</style>\n",
       "<table border=\"1\" class=\"dataframe\">\n",
       "  <thead>\n",
       "    <tr style=\"text-align: right;\">\n",
       "      <th></th>\n",
       "      <th>ID</th>\n",
       "      <th>LIMIT_BAL</th>\n",
       "      <th>SEX</th>\n",
       "      <th>EDUCATION</th>\n",
       "      <th>MARRIAGE</th>\n",
       "      <th>AGE</th>\n",
       "      <th>PAY_0</th>\n",
       "      <th>PAY_2</th>\n",
       "      <th>PAY_3</th>\n",
       "      <th>PAY_4</th>\n",
       "      <th>...</th>\n",
       "      <th>BILL_AMT4</th>\n",
       "      <th>BILL_AMT5</th>\n",
       "      <th>BILL_AMT6</th>\n",
       "      <th>PAY_AMT1</th>\n",
       "      <th>PAY_AMT2</th>\n",
       "      <th>PAY_AMT3</th>\n",
       "      <th>PAY_AMT4</th>\n",
       "      <th>PAY_AMT5</th>\n",
       "      <th>PAY_AMT6</th>\n",
       "      <th>default.payment.next.month</th>\n",
       "    </tr>\n",
       "  </thead>\n",
       "  <tbody>\n",
       "    <tr>\n",
       "      <th>0</th>\n",
       "      <td>1</td>\n",
       "      <td>20000.0</td>\n",
       "      <td>2</td>\n",
       "      <td>2</td>\n",
       "      <td>1</td>\n",
       "      <td>24</td>\n",
       "      <td>2</td>\n",
       "      <td>2</td>\n",
       "      <td>-1</td>\n",
       "      <td>-1</td>\n",
       "      <td>...</td>\n",
       "      <td>0.0</td>\n",
       "      <td>0.0</td>\n",
       "      <td>0.0</td>\n",
       "      <td>0.0</td>\n",
       "      <td>689.0</td>\n",
       "      <td>0.0</td>\n",
       "      <td>0.0</td>\n",
       "      <td>0.0</td>\n",
       "      <td>0.0</td>\n",
       "      <td>1</td>\n",
       "    </tr>\n",
       "    <tr>\n",
       "      <th>1</th>\n",
       "      <td>2</td>\n",
       "      <td>120000.0</td>\n",
       "      <td>2</td>\n",
       "      <td>2</td>\n",
       "      <td>2</td>\n",
       "      <td>26</td>\n",
       "      <td>-1</td>\n",
       "      <td>2</td>\n",
       "      <td>0</td>\n",
       "      <td>0</td>\n",
       "      <td>...</td>\n",
       "      <td>3272.0</td>\n",
       "      <td>3455.0</td>\n",
       "      <td>3261.0</td>\n",
       "      <td>0.0</td>\n",
       "      <td>1000.0</td>\n",
       "      <td>1000.0</td>\n",
       "      <td>1000.0</td>\n",
       "      <td>0.0</td>\n",
       "      <td>2000.0</td>\n",
       "      <td>1</td>\n",
       "    </tr>\n",
       "    <tr>\n",
       "      <th>2</th>\n",
       "      <td>3</td>\n",
       "      <td>90000.0</td>\n",
       "      <td>2</td>\n",
       "      <td>2</td>\n",
       "      <td>2</td>\n",
       "      <td>34</td>\n",
       "      <td>0</td>\n",
       "      <td>0</td>\n",
       "      <td>0</td>\n",
       "      <td>0</td>\n",
       "      <td>...</td>\n",
       "      <td>14331.0</td>\n",
       "      <td>14948.0</td>\n",
       "      <td>15549.0</td>\n",
       "      <td>1518.0</td>\n",
       "      <td>1500.0</td>\n",
       "      <td>1000.0</td>\n",
       "      <td>1000.0</td>\n",
       "      <td>1000.0</td>\n",
       "      <td>5000.0</td>\n",
       "      <td>0</td>\n",
       "    </tr>\n",
       "    <tr>\n",
       "      <th>3</th>\n",
       "      <td>4</td>\n",
       "      <td>50000.0</td>\n",
       "      <td>2</td>\n",
       "      <td>2</td>\n",
       "      <td>1</td>\n",
       "      <td>37</td>\n",
       "      <td>0</td>\n",
       "      <td>0</td>\n",
       "      <td>0</td>\n",
       "      <td>0</td>\n",
       "      <td>...</td>\n",
       "      <td>28314.0</td>\n",
       "      <td>28959.0</td>\n",
       "      <td>29547.0</td>\n",
       "      <td>2000.0</td>\n",
       "      <td>2019.0</td>\n",
       "      <td>1200.0</td>\n",
       "      <td>1100.0</td>\n",
       "      <td>1069.0</td>\n",
       "      <td>1000.0</td>\n",
       "      <td>0</td>\n",
       "    </tr>\n",
       "    <tr>\n",
       "      <th>4</th>\n",
       "      <td>5</td>\n",
       "      <td>50000.0</td>\n",
       "      <td>1</td>\n",
       "      <td>2</td>\n",
       "      <td>1</td>\n",
       "      <td>57</td>\n",
       "      <td>-1</td>\n",
       "      <td>0</td>\n",
       "      <td>-1</td>\n",
       "      <td>0</td>\n",
       "      <td>...</td>\n",
       "      <td>20940.0</td>\n",
       "      <td>19146.0</td>\n",
       "      <td>19131.0</td>\n",
       "      <td>2000.0</td>\n",
       "      <td>36681.0</td>\n",
       "      <td>10000.0</td>\n",
       "      <td>9000.0</td>\n",
       "      <td>689.0</td>\n",
       "      <td>679.0</td>\n",
       "      <td>0</td>\n",
       "    </tr>\n",
       "  </tbody>\n",
       "</table>\n",
       "<p>5 rows × 25 columns</p>\n",
       "</div>"
      ],
      "text/plain": [
       "   ID  LIMIT_BAL  SEX  EDUCATION  MARRIAGE  AGE  PAY_0  PAY_2  PAY_3  PAY_4  \\\n",
       "0   1    20000.0    2          2         1   24      2      2     -1     -1   \n",
       "1   2   120000.0    2          2         2   26     -1      2      0      0   \n",
       "2   3    90000.0    2          2         2   34      0      0      0      0   \n",
       "3   4    50000.0    2          2         1   37      0      0      0      0   \n",
       "4   5    50000.0    1          2         1   57     -1      0     -1      0   \n",
       "\n",
       "   ...  BILL_AMT4  BILL_AMT5  BILL_AMT6  PAY_AMT1  PAY_AMT2  PAY_AMT3  \\\n",
       "0  ...        0.0        0.0        0.0       0.0     689.0       0.0   \n",
       "1  ...     3272.0     3455.0     3261.0       0.0    1000.0    1000.0   \n",
       "2  ...    14331.0    14948.0    15549.0    1518.0    1500.0    1000.0   \n",
       "3  ...    28314.0    28959.0    29547.0    2000.0    2019.0    1200.0   \n",
       "4  ...    20940.0    19146.0    19131.0    2000.0   36681.0   10000.0   \n",
       "\n",
       "   PAY_AMT4  PAY_AMT5  PAY_AMT6  default.payment.next.month  \n",
       "0       0.0       0.0       0.0                           1  \n",
       "1    1000.0       0.0    2000.0                           1  \n",
       "2    1000.0    1000.0    5000.0                           0  \n",
       "3    1100.0    1069.0    1000.0                           0  \n",
       "4    9000.0     689.0     679.0                           0  \n",
       "\n",
       "[5 rows x 25 columns]"
      ]
     },
     "execution_count": 3,
     "metadata": {},
     "output_type": "execute_result"
    }
   ],
   "source": [
    "df.head()"
   ]
  },
  {
   "cell_type": "code",
   "execution_count": 4,
   "metadata": {},
   "outputs": [],
   "source": [
    "df = df.rename(columns={'default.payment.next.month': 'default_payment_next_month'})\n",
    "df = df.drop(['ID'], axis=1)"
   ]
  },
  {
   "cell_type": "markdown",
   "metadata": {},
   "source": [
    "### 1. Linear Model"
   ]
  },
  {
   "cell_type": "markdown",
   "metadata": {},
   "source": [
    "#### Statsmodels"
   ]
  },
  {
   "cell_type": "code",
   "execution_count": 5,
   "metadata": {},
   "outputs": [],
   "source": [
    "#Import libraries\n",
    "import statsmodels.api as sm\n",
    "from statsmodels.formula.api import ols"
   ]
  },
  {
   "cell_type": "code",
   "execution_count": 6,
   "metadata": {},
   "outputs": [
    {
     "data": {
      "text/html": [
       "<table class=\"simpletable\">\n",
       "<caption>OLS Regression Results</caption>\n",
       "<tr>\n",
       "  <th>Dep. Variable:</th>    <td>default_payment_next_month</td> <th>  R-squared:         </th> <td>   0.124</td> \n",
       "</tr>\n",
       "<tr>\n",
       "  <th>Model:</th>                        <td>OLS</td>            <th>  Adj. R-squared:    </th> <td>   0.123</td> \n",
       "</tr>\n",
       "<tr>\n",
       "  <th>Method:</th>                  <td>Least Squares</td>       <th>  F-statistic:       </th> <td>   184.5</td> \n",
       "</tr>\n",
       "<tr>\n",
       "  <th>Date:</th>                  <td>Wed, 09 Dec 2020</td>      <th>  Prob (F-statistic):</th>  <td>  0.00</td>  \n",
       "</tr>\n",
       "<tr>\n",
       "  <th>Time:</th>                      <td>14:55:54</td>          <th>  Log-Likelihood:    </th> <td> -14202.</td> \n",
       "</tr>\n",
       "<tr>\n",
       "  <th>No. Observations:</th>           <td> 30000</td>           <th>  AIC:               </th> <td>2.845e+04</td>\n",
       "</tr>\n",
       "<tr>\n",
       "  <th>Df Residuals:</th>               <td> 29976</td>           <th>  BIC:               </th> <td>2.865e+04</td>\n",
       "</tr>\n",
       "<tr>\n",
       "  <th>Df Model:</th>                   <td>    23</td>           <th>                     </th>     <td> </td>    \n",
       "</tr>\n",
       "<tr>\n",
       "  <th>Covariance Type:</th>           <td>nonrobust</td>         <th>                     </th>     <td> </td>    \n",
       "</tr>\n",
       "</table>\n",
       "<table class=\"simpletable\">\n",
       "<tr>\n",
       "      <td></td>         <th>coef</th>     <th>std err</th>      <th>t</th>      <th>P>|t|</th>  <th>[0.025</th>    <th>0.975]</th>  \n",
       "</tr>\n",
       "<tr>\n",
       "  <th>Intercept</th> <td>    0.3142</td> <td>    0.018</td> <td>   17.541</td> <td> 0.000</td> <td>    0.279</td> <td>    0.349</td>\n",
       "</tr>\n",
       "<tr>\n",
       "  <th>LIMIT_BAL</th> <td>-9.053e-08</td> <td> 2.16e-08</td> <td>   -4.193</td> <td> 0.000</td> <td>-1.33e-07</td> <td>-4.82e-08</td>\n",
       "</tr>\n",
       "<tr>\n",
       "  <th>SEX</th>       <td>   -0.0145</td> <td>    0.005</td> <td>   -3.130</td> <td> 0.002</td> <td>   -0.024</td> <td>   -0.005</td>\n",
       "</tr>\n",
       "<tr>\n",
       "  <th>EDUCATION</th> <td>   -0.0151</td> <td>    0.003</td> <td>   -5.022</td> <td> 0.000</td> <td>   -0.021</td> <td>   -0.009</td>\n",
       "</tr>\n",
       "<tr>\n",
       "  <th>MARRIAGE</th>  <td>   -0.0238</td> <td>    0.005</td> <td>   -4.996</td> <td> 0.000</td> <td>   -0.033</td> <td>   -0.014</td>\n",
       "</tr>\n",
       "<tr>\n",
       "  <th>AGE</th>       <td>    0.0014</td> <td>    0.000</td> <td>    5.128</td> <td> 0.000</td> <td>    0.001</td> <td>    0.002</td>\n",
       "</tr>\n",
       "<tr>\n",
       "  <th>PAY_0</th>     <td>    0.0957</td> <td>    0.003</td> <td>   34.596</td> <td> 0.000</td> <td>    0.090</td> <td>    0.101</td>\n",
       "</tr>\n",
       "<tr>\n",
       "  <th>PAY_2</th>     <td>    0.0195</td> <td>    0.003</td> <td>    5.828</td> <td> 0.000</td> <td>    0.013</td> <td>    0.026</td>\n",
       "</tr>\n",
       "<tr>\n",
       "  <th>PAY_3</th>     <td>    0.0117</td> <td>    0.004</td> <td>    3.256</td> <td> 0.001</td> <td>    0.005</td> <td>    0.019</td>\n",
       "</tr>\n",
       "<tr>\n",
       "  <th>PAY_4</th>     <td>    0.0034</td> <td>    0.004</td> <td>    0.846</td> <td> 0.398</td> <td>   -0.004</td> <td>    0.011</td>\n",
       "</tr>\n",
       "<tr>\n",
       "  <th>PAY_5</th>     <td>    0.0057</td> <td>    0.004</td> <td>    1.324</td> <td> 0.185</td> <td>   -0.003</td> <td>    0.014</td>\n",
       "</tr>\n",
       "<tr>\n",
       "  <th>PAY_6</th>     <td>    0.0008</td> <td>    0.004</td> <td>    0.225</td> <td> 0.822</td> <td>   -0.006</td> <td>    0.008</td>\n",
       "</tr>\n",
       "<tr>\n",
       "  <th>BILL_AMT1</th> <td>-6.225e-07</td> <td> 1.14e-07</td> <td>   -5.453</td> <td> 0.000</td> <td>-8.46e-07</td> <td>-3.99e-07</td>\n",
       "</tr>\n",
       "<tr>\n",
       "  <th>BILL_AMT2</th> <td> 1.587e-07</td> <td>  1.6e-07</td> <td>    0.990</td> <td> 0.322</td> <td>-1.56e-07</td> <td> 4.73e-07</td>\n",
       "</tr>\n",
       "<tr>\n",
       "  <th>BILL_AMT3</th> <td> 3.005e-08</td> <td> 1.51e-07</td> <td>    0.199</td> <td> 0.842</td> <td>-2.66e-07</td> <td> 3.26e-07</td>\n",
       "</tr>\n",
       "<tr>\n",
       "  <th>BILL_AMT4</th> <td>-6.793e-08</td> <td> 1.57e-07</td> <td>   -0.432</td> <td> 0.666</td> <td>-3.76e-07</td> <td>  2.4e-07</td>\n",
       "</tr>\n",
       "<tr>\n",
       "  <th>BILL_AMT5</th> <td>-2.049e-08</td> <td> 1.85e-07</td> <td>   -0.111</td> <td> 0.912</td> <td>-3.82e-07</td> <td> 3.41e-07</td>\n",
       "</tr>\n",
       "<tr>\n",
       "  <th>BILL_AMT6</th> <td> 1.153e-07</td> <td> 1.46e-07</td> <td>    0.789</td> <td> 0.430</td> <td>-1.71e-07</td> <td> 4.02e-07</td>\n",
       "</tr>\n",
       "<tr>\n",
       "  <th>PAY_AMT1</th>  <td>-7.437e-07</td> <td> 1.77e-07</td> <td>   -4.201</td> <td> 0.000</td> <td>-1.09e-06</td> <td>-3.97e-07</td>\n",
       "</tr>\n",
       "<tr>\n",
       "  <th>PAY_AMT2</th>  <td>-2.092e-07</td> <td> 1.46e-07</td> <td>   -1.436</td> <td> 0.151</td> <td>-4.95e-07</td> <td> 7.63e-08</td>\n",
       "</tr>\n",
       "<tr>\n",
       "  <th>PAY_AMT3</th>  <td>-2.874e-08</td> <td> 1.69e-07</td> <td>   -0.170</td> <td> 0.865</td> <td> -3.6e-07</td> <td> 3.02e-07</td>\n",
       "</tr>\n",
       "<tr>\n",
       "  <th>PAY_AMT4</th>  <td>-2.521e-07</td> <td> 1.84e-07</td> <td>   -1.371</td> <td> 0.170</td> <td>-6.13e-07</td> <td> 1.08e-07</td>\n",
       "</tr>\n",
       "<tr>\n",
       "  <th>PAY_AMT5</th>  <td> -3.41e-07</td> <td> 1.91e-07</td> <td>   -1.787</td> <td> 0.074</td> <td>-7.15e-07</td> <td>  3.3e-08</td>\n",
       "</tr>\n",
       "<tr>\n",
       "  <th>PAY_AMT6</th>  <td> -9.77e-08</td> <td> 1.37e-07</td> <td>   -0.716</td> <td> 0.474</td> <td>-3.65e-07</td> <td>  1.7e-07</td>\n",
       "</tr>\n",
       "</table>\n",
       "<table class=\"simpletable\">\n",
       "<tr>\n",
       "  <th>Omnibus:</th>       <td>4682.286</td> <th>  Durbin-Watson:     </th> <td>   2.013</td>\n",
       "</tr>\n",
       "<tr>\n",
       "  <th>Prob(Omnibus):</th>  <td> 0.000</td>  <th>  Jarque-Bera (JB):  </th> <td>7285.821</td>\n",
       "</tr>\n",
       "<tr>\n",
       "  <th>Skew:</th>           <td> 1.204</td>  <th>  Prob(JB):          </th> <td>    0.00</td>\n",
       "</tr>\n",
       "<tr>\n",
       "  <th>Kurtosis:</th>       <td> 3.178</td>  <th>  Cond. No.          </th> <td>2.10e+06</td>\n",
       "</tr>\n",
       "</table><br/><br/>Warnings:<br/>[1] Standard Errors assume that the covariance matrix of the errors is correctly specified.<br/>[2] The condition number is large, 2.1e+06. This might indicate that there are<br/>strong multicollinearity or other numerical problems."
      ],
      "text/plain": [
       "<class 'statsmodels.iolib.summary.Summary'>\n",
       "\"\"\"\n",
       "                                OLS Regression Results                                \n",
       "======================================================================================\n",
       "Dep. Variable:     default_payment_next_month   R-squared:                       0.124\n",
       "Model:                                    OLS   Adj. R-squared:                  0.123\n",
       "Method:                         Least Squares   F-statistic:                     184.5\n",
       "Date:                        Wed, 09 Dec 2020   Prob (F-statistic):               0.00\n",
       "Time:                                14:55:54   Log-Likelihood:                -14202.\n",
       "No. Observations:                       30000   AIC:                         2.845e+04\n",
       "Df Residuals:                           29976   BIC:                         2.865e+04\n",
       "Df Model:                                  23                                         \n",
       "Covariance Type:                    nonrobust                                         \n",
       "==============================================================================\n",
       "                 coef    std err          t      P>|t|      [0.025      0.975]\n",
       "------------------------------------------------------------------------------\n",
       "Intercept      0.3142      0.018     17.541      0.000       0.279       0.349\n",
       "LIMIT_BAL  -9.053e-08   2.16e-08     -4.193      0.000   -1.33e-07   -4.82e-08\n",
       "SEX           -0.0145      0.005     -3.130      0.002      -0.024      -0.005\n",
       "EDUCATION     -0.0151      0.003     -5.022      0.000      -0.021      -0.009\n",
       "MARRIAGE      -0.0238      0.005     -4.996      0.000      -0.033      -0.014\n",
       "AGE            0.0014      0.000      5.128      0.000       0.001       0.002\n",
       "PAY_0          0.0957      0.003     34.596      0.000       0.090       0.101\n",
       "PAY_2          0.0195      0.003      5.828      0.000       0.013       0.026\n",
       "PAY_3          0.0117      0.004      3.256      0.001       0.005       0.019\n",
       "PAY_4          0.0034      0.004      0.846      0.398      -0.004       0.011\n",
       "PAY_5          0.0057      0.004      1.324      0.185      -0.003       0.014\n",
       "PAY_6          0.0008      0.004      0.225      0.822      -0.006       0.008\n",
       "BILL_AMT1  -6.225e-07   1.14e-07     -5.453      0.000   -8.46e-07   -3.99e-07\n",
       "BILL_AMT2   1.587e-07    1.6e-07      0.990      0.322   -1.56e-07    4.73e-07\n",
       "BILL_AMT3   3.005e-08   1.51e-07      0.199      0.842   -2.66e-07    3.26e-07\n",
       "BILL_AMT4  -6.793e-08   1.57e-07     -0.432      0.666   -3.76e-07     2.4e-07\n",
       "BILL_AMT5  -2.049e-08   1.85e-07     -0.111      0.912   -3.82e-07    3.41e-07\n",
       "BILL_AMT6   1.153e-07   1.46e-07      0.789      0.430   -1.71e-07    4.02e-07\n",
       "PAY_AMT1   -7.437e-07   1.77e-07     -4.201      0.000   -1.09e-06   -3.97e-07\n",
       "PAY_AMT2   -2.092e-07   1.46e-07     -1.436      0.151   -4.95e-07    7.63e-08\n",
       "PAY_AMT3   -2.874e-08   1.69e-07     -0.170      0.865    -3.6e-07    3.02e-07\n",
       "PAY_AMT4   -2.521e-07   1.84e-07     -1.371      0.170   -6.13e-07    1.08e-07\n",
       "PAY_AMT5    -3.41e-07   1.91e-07     -1.787      0.074   -7.15e-07     3.3e-08\n",
       "PAY_AMT6    -9.77e-08   1.37e-07     -0.716      0.474   -3.65e-07     1.7e-07\n",
       "==============================================================================\n",
       "Omnibus:                     4682.286   Durbin-Watson:                   2.013\n",
       "Prob(Omnibus):                  0.000   Jarque-Bera (JB):             7285.821\n",
       "Skew:                           1.204   Prob(JB):                         0.00\n",
       "Kurtosis:                       3.178   Cond. No.                     2.10e+06\n",
       "==============================================================================\n",
       "\n",
       "Warnings:\n",
       "[1] Standard Errors assume that the covariance matrix of the errors is correctly specified.\n",
       "[2] The condition number is large, 2.1e+06. This might indicate that there are\n",
       "strong multicollinearity or other numerical problems.\n",
       "\"\"\""
      ]
     },
     "execution_count": 6,
     "metadata": {},
     "output_type": "execute_result"
    }
   ],
   "source": [
    "#Build regression model \n",
    "\n",
    "outcome='default_payment_next_month'\n",
    "cols=[col for col in df.columns]\n",
    "cols.remove('default_payment_next_month')\n",
    "predictors='+'.join(cols)\n",
    "formula=outcome+'~'+predictors\n",
    "model=ols(formula=formula,data=df).fit()\n",
    "model.summary()"
   ]
  },
  {
   "cell_type": "code",
   "execution_count": 7,
   "metadata": {},
   "outputs": [],
   "source": [
    "#Train-Test-Split\n",
    "train, test = train_test_split(df, test_size=0.2, random_state=42)"
   ]
  },
  {
   "cell_type": "code",
   "execution_count": 8,
   "metadata": {},
   "outputs": [
    {
     "data": {
      "text/html": [
       "<table class=\"simpletable\">\n",
       "<caption>OLS Regression Results</caption>\n",
       "<tr>\n",
       "  <th>Dep. Variable:</th>    <td>default_payment_next_month</td> <th>  R-squared:         </th> <td>   0.125</td> \n",
       "</tr>\n",
       "<tr>\n",
       "  <th>Model:</th>                        <td>OLS</td>            <th>  Adj. R-squared:    </th> <td>   0.124</td> \n",
       "</tr>\n",
       "<tr>\n",
       "  <th>Method:</th>                  <td>Least Squares</td>       <th>  F-statistic:       </th> <td>   149.1</td> \n",
       "</tr>\n",
       "<tr>\n",
       "  <th>Date:</th>                  <td>Wed, 09 Dec 2020</td>      <th>  Prob (F-statistic):</th>  <td>  0.00</td>  \n",
       "</tr>\n",
       "<tr>\n",
       "  <th>Time:</th>                      <td>14:55:54</td>          <th>  Log-Likelihood:    </th> <td> -11369.</td> \n",
       "</tr>\n",
       "<tr>\n",
       "  <th>No. Observations:</th>           <td> 24000</td>           <th>  AIC:               </th> <td>2.279e+04</td>\n",
       "</tr>\n",
       "<tr>\n",
       "  <th>Df Residuals:</th>               <td> 23976</td>           <th>  BIC:               </th> <td>2.298e+04</td>\n",
       "</tr>\n",
       "<tr>\n",
       "  <th>Df Model:</th>                   <td>    23</td>           <th>                     </th>     <td> </td>    \n",
       "</tr>\n",
       "<tr>\n",
       "  <th>Covariance Type:</th>           <td>nonrobust</td>         <th>                     </th>     <td> </td>    \n",
       "</tr>\n",
       "</table>\n",
       "<table class=\"simpletable\">\n",
       "<tr>\n",
       "      <td></td>         <th>coef</th>     <th>std err</th>      <th>t</th>      <th>P>|t|</th>  <th>[0.025</th>    <th>0.975]</th>  \n",
       "</tr>\n",
       "<tr>\n",
       "  <th>Intercept</th> <td>    0.3098</td> <td>    0.020</td> <td>   15.446</td> <td> 0.000</td> <td>    0.270</td> <td>    0.349</td>\n",
       "</tr>\n",
       "<tr>\n",
       "  <th>LIMIT_BAL</th> <td>-9.692e-08</td> <td> 2.42e-08</td> <td>   -4.009</td> <td> 0.000</td> <td>-1.44e-07</td> <td>-4.95e-08</td>\n",
       "</tr>\n",
       "<tr>\n",
       "  <th>SEX</th>       <td>   -0.0158</td> <td>    0.005</td> <td>   -3.043</td> <td> 0.002</td> <td>   -0.026</td> <td>   -0.006</td>\n",
       "</tr>\n",
       "<tr>\n",
       "  <th>EDUCATION</th> <td>   -0.0146</td> <td>    0.003</td> <td>   -4.352</td> <td> 0.000</td> <td>   -0.021</td> <td>   -0.008</td>\n",
       "</tr>\n",
       "<tr>\n",
       "  <th>MARRIAGE</th>  <td>   -0.0229</td> <td>    0.005</td> <td>   -4.298</td> <td> 0.000</td> <td>   -0.033</td> <td>   -0.012</td>\n",
       "</tr>\n",
       "<tr>\n",
       "  <th>AGE</th>       <td>    0.0016</td> <td>    0.000</td> <td>    5.084</td> <td> 0.000</td> <td>    0.001</td> <td>    0.002</td>\n",
       "</tr>\n",
       "<tr>\n",
       "  <th>PAY_0</th>     <td>    0.0952</td> <td>    0.003</td> <td>   30.735</td> <td> 0.000</td> <td>    0.089</td> <td>    0.101</td>\n",
       "</tr>\n",
       "<tr>\n",
       "  <th>PAY_2</th>     <td>    0.0206</td> <td>    0.004</td> <td>    5.489</td> <td> 0.000</td> <td>    0.013</td> <td>    0.028</td>\n",
       "</tr>\n",
       "<tr>\n",
       "  <th>PAY_3</th>     <td>    0.0110</td> <td>    0.004</td> <td>    2.715</td> <td> 0.007</td> <td>    0.003</td> <td>    0.019</td>\n",
       "</tr>\n",
       "<tr>\n",
       "  <th>PAY_4</th>     <td>    0.0067</td> <td>    0.004</td> <td>    1.505</td> <td> 0.132</td> <td>   -0.002</td> <td>    0.015</td>\n",
       "</tr>\n",
       "<tr>\n",
       "  <th>PAY_5</th>     <td>    0.0029</td> <td>    0.005</td> <td>    0.595</td> <td> 0.552</td> <td>   -0.007</td> <td>    0.012</td>\n",
       "</tr>\n",
       "<tr>\n",
       "  <th>PAY_6</th>     <td>    0.0019</td> <td>    0.004</td> <td>    0.483</td> <td> 0.629</td> <td>   -0.006</td> <td>    0.010</td>\n",
       "</tr>\n",
       "<tr>\n",
       "  <th>BILL_AMT1</th> <td>-6.045e-07</td> <td> 1.28e-07</td> <td>   -4.722</td> <td> 0.000</td> <td>-8.55e-07</td> <td>-3.54e-07</td>\n",
       "</tr>\n",
       "<tr>\n",
       "  <th>BILL_AMT2</th> <td>  1.63e-07</td> <td> 1.81e-07</td> <td>    0.902</td> <td> 0.367</td> <td>-1.91e-07</td> <td> 5.17e-07</td>\n",
       "</tr>\n",
       "<tr>\n",
       "  <th>BILL_AMT3</th> <td>  4.47e-08</td> <td> 1.69e-07</td> <td>    0.265</td> <td> 0.791</td> <td>-2.86e-07</td> <td> 3.75e-07</td>\n",
       "</tr>\n",
       "<tr>\n",
       "  <th>BILL_AMT4</th> <td>-1.577e-07</td> <td> 1.73e-07</td> <td>   -0.909</td> <td> 0.363</td> <td>-4.98e-07</td> <td> 1.82e-07</td>\n",
       "</tr>\n",
       "<tr>\n",
       "  <th>BILL_AMT5</th> <td> -9.44e-09</td> <td> 2.07e-07</td> <td>   -0.046</td> <td> 0.964</td> <td>-4.15e-07</td> <td> 3.97e-07</td>\n",
       "</tr>\n",
       "<tr>\n",
       "  <th>BILL_AMT6</th> <td> 1.179e-07</td> <td> 1.66e-07</td> <td>    0.712</td> <td> 0.477</td> <td>-2.07e-07</td> <td> 4.43e-07</td>\n",
       "</tr>\n",
       "<tr>\n",
       "  <th>PAY_AMT1</th>  <td>-5.985e-07</td> <td> 1.94e-07</td> <td>   -3.083</td> <td> 0.002</td> <td>-9.79e-07</td> <td>-2.18e-07</td>\n",
       "</tr>\n",
       "<tr>\n",
       "  <th>PAY_AMT2</th>  <td>-2.075e-07</td> <td>  1.6e-07</td> <td>   -1.299</td> <td> 0.194</td> <td>-5.21e-07</td> <td> 1.06e-07</td>\n",
       "</tr>\n",
       "<tr>\n",
       "  <th>PAY_AMT3</th>  <td> 7.262e-08</td> <td> 1.86e-07</td> <td>    0.390</td> <td> 0.697</td> <td>-2.92e-07</td> <td> 4.38e-07</td>\n",
       "</tr>\n",
       "<tr>\n",
       "  <th>PAY_AMT4</th>  <td>-2.295e-07</td> <td> 1.99e-07</td> <td>   -1.152</td> <td> 0.250</td> <td> -6.2e-07</td> <td> 1.61e-07</td>\n",
       "</tr>\n",
       "<tr>\n",
       "  <th>PAY_AMT5</th>  <td>-1.895e-07</td> <td>  2.1e-07</td> <td>   -0.902</td> <td> 0.367</td> <td>-6.01e-07</td> <td> 2.22e-07</td>\n",
       "</tr>\n",
       "<tr>\n",
       "  <th>PAY_AMT6</th>  <td>-1.375e-07</td> <td> 1.55e-07</td> <td>   -0.886</td> <td> 0.375</td> <td>-4.42e-07</td> <td> 1.67e-07</td>\n",
       "</tr>\n",
       "</table>\n",
       "<table class=\"simpletable\">\n",
       "<tr>\n",
       "  <th>Omnibus:</th>       <td>3750.617</td> <th>  Durbin-Watson:     </th> <td>   2.011</td>\n",
       "</tr>\n",
       "<tr>\n",
       "  <th>Prob(Omnibus):</th>  <td> 0.000</td>  <th>  Jarque-Bera (JB):  </th> <td>5836.711</td>\n",
       "</tr>\n",
       "<tr>\n",
       "  <th>Skew:</th>           <td> 1.205</td>  <th>  Prob(JB):          </th> <td>    0.00</td>\n",
       "</tr>\n",
       "<tr>\n",
       "  <th>Kurtosis:</th>       <td> 3.182</td>  <th>  Cond. No.          </th> <td>2.10e+06</td>\n",
       "</tr>\n",
       "</table><br/><br/>Warnings:<br/>[1] Standard Errors assume that the covariance matrix of the errors is correctly specified.<br/>[2] The condition number is large, 2.1e+06. This might indicate that there are<br/>strong multicollinearity or other numerical problems."
      ],
      "text/plain": [
       "<class 'statsmodels.iolib.summary.Summary'>\n",
       "\"\"\"\n",
       "                                OLS Regression Results                                \n",
       "======================================================================================\n",
       "Dep. Variable:     default_payment_next_month   R-squared:                       0.125\n",
       "Model:                                    OLS   Adj. R-squared:                  0.124\n",
       "Method:                         Least Squares   F-statistic:                     149.1\n",
       "Date:                        Wed, 09 Dec 2020   Prob (F-statistic):               0.00\n",
       "Time:                                14:55:54   Log-Likelihood:                -11369.\n",
       "No. Observations:                       24000   AIC:                         2.279e+04\n",
       "Df Residuals:                           23976   BIC:                         2.298e+04\n",
       "Df Model:                                  23                                         \n",
       "Covariance Type:                    nonrobust                                         \n",
       "==============================================================================\n",
       "                 coef    std err          t      P>|t|      [0.025      0.975]\n",
       "------------------------------------------------------------------------------\n",
       "Intercept      0.3098      0.020     15.446      0.000       0.270       0.349\n",
       "LIMIT_BAL  -9.692e-08   2.42e-08     -4.009      0.000   -1.44e-07   -4.95e-08\n",
       "SEX           -0.0158      0.005     -3.043      0.002      -0.026      -0.006\n",
       "EDUCATION     -0.0146      0.003     -4.352      0.000      -0.021      -0.008\n",
       "MARRIAGE      -0.0229      0.005     -4.298      0.000      -0.033      -0.012\n",
       "AGE            0.0016      0.000      5.084      0.000       0.001       0.002\n",
       "PAY_0          0.0952      0.003     30.735      0.000       0.089       0.101\n",
       "PAY_2          0.0206      0.004      5.489      0.000       0.013       0.028\n",
       "PAY_3          0.0110      0.004      2.715      0.007       0.003       0.019\n",
       "PAY_4          0.0067      0.004      1.505      0.132      -0.002       0.015\n",
       "PAY_5          0.0029      0.005      0.595      0.552      -0.007       0.012\n",
       "PAY_6          0.0019      0.004      0.483      0.629      -0.006       0.010\n",
       "BILL_AMT1  -6.045e-07   1.28e-07     -4.722      0.000   -8.55e-07   -3.54e-07\n",
       "BILL_AMT2    1.63e-07   1.81e-07      0.902      0.367   -1.91e-07    5.17e-07\n",
       "BILL_AMT3    4.47e-08   1.69e-07      0.265      0.791   -2.86e-07    3.75e-07\n",
       "BILL_AMT4  -1.577e-07   1.73e-07     -0.909      0.363   -4.98e-07    1.82e-07\n",
       "BILL_AMT5   -9.44e-09   2.07e-07     -0.046      0.964   -4.15e-07    3.97e-07\n",
       "BILL_AMT6   1.179e-07   1.66e-07      0.712      0.477   -2.07e-07    4.43e-07\n",
       "PAY_AMT1   -5.985e-07   1.94e-07     -3.083      0.002   -9.79e-07   -2.18e-07\n",
       "PAY_AMT2   -2.075e-07    1.6e-07     -1.299      0.194   -5.21e-07    1.06e-07\n",
       "PAY_AMT3    7.262e-08   1.86e-07      0.390      0.697   -2.92e-07    4.38e-07\n",
       "PAY_AMT4   -2.295e-07   1.99e-07     -1.152      0.250    -6.2e-07    1.61e-07\n",
       "PAY_AMT5   -1.895e-07    2.1e-07     -0.902      0.367   -6.01e-07    2.22e-07\n",
       "PAY_AMT6   -1.375e-07   1.55e-07     -0.886      0.375   -4.42e-07    1.67e-07\n",
       "==============================================================================\n",
       "Omnibus:                     3750.617   Durbin-Watson:                   2.011\n",
       "Prob(Omnibus):                  0.000   Jarque-Bera (JB):             5836.711\n",
       "Skew:                           1.205   Prob(JB):                         0.00\n",
       "Kurtosis:                       3.182   Cond. No.                     2.10e+06\n",
       "==============================================================================\n",
       "\n",
       "Warnings:\n",
       "[1] Standard Errors assume that the covariance matrix of the errors is correctly specified.\n",
       "[2] The condition number is large, 2.1e+06. This might indicate that there are\n",
       "strong multicollinearity or other numerical problems.\n",
       "\"\"\""
      ]
     },
     "execution_count": 8,
     "metadata": {},
     "output_type": "execute_result"
    }
   ],
   "source": [
    "#Fit the model on the train data\n",
    "formula=outcome+'~'+predictors\n",
    "model=ols(formula=formula,data=train).fit()\n",
    "model.summary()"
   ]
  },
  {
   "cell_type": "code",
   "execution_count": 9,
   "metadata": {},
   "outputs": [],
   "source": [
    "#Predict the model using the test data \n",
    "y_hat_test = model.predict(test)\n",
    "y_test = test['default_payment_next_month']\n",
    "\n",
    "#Do the same for the train data\n",
    "y_hat_train = model.predict(train)\n",
    "y_train = train['default_payment_next_month']"
   ]
  },
  {
   "cell_type": "code",
   "execution_count": 10,
   "metadata": {},
   "outputs": [
    {
     "name": "stdout",
     "output_type": "stream",
     "text": [
      "Train Mean squared error:  0.1509996248474726\n",
      "Test Mean squared error:  0.15066548456702586\n",
      "Train RMSE:  0.38858670184075084\n",
      "Test RMSE:  0.3881565207065648\n"
     ]
    }
   ],
   "source": [
    "#Evaluate the model using MSE and RMSE\n",
    "mse_test = mean_squared_error(y_hat_test, y_test)\n",
    "mse_train = mean_squared_error(y_hat_train, y_train)\n",
    "\n",
    "print('Train Mean squared error: ', mse_train)\n",
    "print('Test Mean squared error: ', mse_test)\n",
    "print('Train RMSE: ', np.sqrt(mse_train))\n",
    "print('Test RMSE: ', np.sqrt(mse_test))"
   ]
  },
  {
   "cell_type": "markdown",
   "metadata": {},
   "source": [
    "### 2. Logistic Model"
   ]
  },
  {
   "cell_type": "code",
   "execution_count": 11,
   "metadata": {},
   "outputs": [
    {
     "name": "stdout",
     "output_type": "stream",
     "text": [
      "<class 'pandas.core.frame.DataFrame'>\n",
      "RangeIndex: 30000 entries, 0 to 29999\n",
      "Data columns (total 24 columns):\n",
      "LIMIT_BAL                     30000 non-null float64\n",
      "SEX                           30000 non-null int64\n",
      "EDUCATION                     30000 non-null int64\n",
      "MARRIAGE                      30000 non-null int64\n",
      "AGE                           30000 non-null int64\n",
      "PAY_0                         30000 non-null int64\n",
      "PAY_2                         30000 non-null int64\n",
      "PAY_3                         30000 non-null int64\n",
      "PAY_4                         30000 non-null int64\n",
      "PAY_5                         30000 non-null int64\n",
      "PAY_6                         30000 non-null int64\n",
      "BILL_AMT1                     30000 non-null float64\n",
      "BILL_AMT2                     30000 non-null float64\n",
      "BILL_AMT3                     30000 non-null float64\n",
      "BILL_AMT4                     30000 non-null float64\n",
      "BILL_AMT5                     30000 non-null float64\n",
      "BILL_AMT6                     30000 non-null float64\n",
      "PAY_AMT1                      30000 non-null float64\n",
      "PAY_AMT2                      30000 non-null float64\n",
      "PAY_AMT3                      30000 non-null float64\n",
      "PAY_AMT4                      30000 non-null float64\n",
      "PAY_AMT5                      30000 non-null float64\n",
      "PAY_AMT6                      30000 non-null float64\n",
      "default_payment_next_month    30000 non-null int64\n",
      "dtypes: float64(13), int64(11)\n",
      "memory usage: 5.5 MB\n"
     ]
    }
   ],
   "source": [
    "#Look at our data again \n",
    "df.info()"
   ]
  },
  {
   "cell_type": "code",
   "execution_count": 12,
   "metadata": {},
   "outputs": [],
   "source": [
    "#Create dummy variables\n",
    "relevant_columns = ['default_payment_next_month', 'LIMIT_BAL', 'SEX', 'EDUCATION', \n",
    "                    'MARRIAGE', 'AGE', 'PAY_0','BILL_AMT1', 'PAY_AMT1']\n",
    "dummy_dataframe = pd.get_dummies(df[relevant_columns], drop_first=True, dtype=float)"
   ]
  },
  {
   "cell_type": "code",
   "execution_count": 13,
   "metadata": {},
   "outputs": [],
   "source": [
    "#split X and Y\n",
    "y_new = dummy_dataframe['default_payment_next_month']\n",
    "X_new = dummy_dataframe.drop(columns=['default_payment_next_month'], axis=1)"
   ]
  },
  {
   "cell_type": "code",
   "execution_count": 14,
   "metadata": {},
   "outputs": [],
   "source": [
    "#Fill NA values\n",
    "X_new = X_new.fillna(value=0)\n",
    "\n",
    "#Normalize the data\n",
    "for col in X_new.columns:\n",
    "    X_new[col] = (X_new[col] - min(X_new[col]))/ (max(X_new[col]) - min(X_new[col])) "
   ]
  },
  {
   "cell_type": "code",
   "execution_count": 15,
   "metadata": {},
   "outputs": [],
   "source": [
    "#Train test split \n",
    "X_train, X_test, y_train, y_test = train_test_split(X_new, y_new, random_state=0)"
   ]
  },
  {
   "cell_type": "code",
   "execution_count": 16,
   "metadata": {},
   "outputs": [],
   "source": [
    "#Instantiate the classifier \n",
    "logreg = LogisticRegression(fit_intercept=False, C=1e12, solver='liblinear')"
   ]
  },
  {
   "cell_type": "code",
   "execution_count": 26,
   "metadata": {},
   "outputs": [
    {
     "data": {
      "text/plain": [
       "LogisticRegression(C=1000000000000.0, class_weight=None, dual=False,\n",
       "                   fit_intercept=False, intercept_scaling=1, l1_ratio=None,\n",
       "                   max_iter=100, multi_class='warn', n_jobs=None, penalty='l2',\n",
       "                   random_state=None, solver='liblinear', tol=0.0001, verbose=0,\n",
       "                   warm_start=False)"
      ]
     },
     "execution_count": 26,
     "metadata": {},
     "output_type": "execute_result"
    }
   ],
   "source": [
    "#Fit the model\n",
    "logreg.fit(X_train, y_train)"
   ]
  },
  {
   "cell_type": "code",
   "execution_count": 18,
   "metadata": {},
   "outputs": [],
   "source": [
    "#Make predictions \n",
    "\n",
    "y_hat_train = logreg.predict(X_train)\n",
    "y_hat_test = logreg.predict(X_test)"
   ]
  },
  {
   "cell_type": "code",
   "execution_count": 19,
   "metadata": {
    "scrolled": true
   },
   "outputs": [
    {
     "name": "stdout",
     "output_type": "stream",
     "text": [
      "0    18002\n",
      "1     4498\n",
      "Name: default_payment_next_month, dtype: int64\n",
      "0    0.800089\n",
      "1    0.199911\n",
      "Name: default_payment_next_month, dtype: float64\n"
     ]
    }
   ],
   "source": [
    "#Check when model is correct on training set \n",
    "\n",
    "residuals = np.abs(y_train - y_hat_train)\n",
    "print(pd.Series(residuals).value_counts())\n",
    "print(pd.Series(residuals).value_counts(normalize=True))\n"
   ]
  },
  {
   "cell_type": "markdown",
   "metadata": {},
   "source": [
    "Result for train set shows that 18,002 values are correct with approximately 80% accuracy."
   ]
  },
  {
   "cell_type": "code",
   "execution_count": 20,
   "metadata": {},
   "outputs": [
    {
     "name": "stdout",
     "output_type": "stream",
     "text": [
      "0    6071\n",
      "1    1429\n",
      "Name: default_payment_next_month, dtype: int64\n",
      "0    0.809467\n",
      "1    0.190533\n",
      "Name: default_payment_next_month, dtype: float64\n"
     ]
    }
   ],
   "source": [
    "#Check when model is correct on test set\n",
    "\n",
    "residuals = np.abs(y_test - y_hat_test)\n",
    "print(pd.Series(residuals).value_counts())\n",
    "print(pd.Series(residuals).value_counts(normalize=True))"
   ]
  },
  {
   "cell_type": "markdown",
   "metadata": {},
   "source": [
    "Result for test set shows that 6071 values are correct with approximately 81% accuracy."
   ]
  },
  {
   "cell_type": "markdown",
   "metadata": {},
   "source": [
    "#### Evaluation Metrics"
   ]
  },
  {
   "cell_type": "code",
   "execution_count": 29,
   "metadata": {},
   "outputs": [
    {
     "name": "stdout",
     "output_type": "stream",
     "text": [
      "0.672108843537415\n",
      "0.709278350515464\n"
     ]
    }
   ],
   "source": [
    "#Look at precision score\n",
    "prec_train = precision_score(y_train, y_hat_train)\n",
    "prec_test = precision_score(y_test, y_hat_test)\n",
    "\n",
    "print(prec_train)\n",
    "print(prec_test)"
   ]
  },
  {
   "cell_type": "code",
   "execution_count": 32,
   "metadata": {},
   "outputs": [
    {
     "name": "stdout",
     "output_type": "stream",
     "text": [
      "0.19744204636290968\n",
      "0.2107843137254902\n"
     ]
    }
   ],
   "source": [
    "#Look at recall score\n",
    "recall_train = recall_score(y_train, y_hat_train)\n",
    "recall_test = recall_score(y_test, y_hat_test)\n",
    "\n",
    "print(recall_train)\n",
    "print(recall_test)"
   ]
  },
  {
   "cell_type": "code",
   "execution_count": 33,
   "metadata": {},
   "outputs": [
    {
     "name": "stdout",
     "output_type": "stream",
     "text": [
      "0.8000888888888888\n",
      "0.8094666666666667\n"
     ]
    }
   ],
   "source": [
    "#Look at accuracy score\n",
    "accuracy_train = accuracy_score(y_train, y_hat_train)\n",
    "accuracy_test = accuracy_score(y_test, y_hat_test)\n",
    "\n",
    "print(accuracy_train)\n",
    "print(accuracy_test)"
   ]
  },
  {
   "cell_type": "code",
   "execution_count": 34,
   "metadata": {},
   "outputs": [
    {
     "name": "stdout",
     "output_type": "stream",
     "text": [
      "0.30522088353413657\n",
      "0.32498819083608876\n"
     ]
    }
   ],
   "source": [
    "#Look at F1 score \n",
    "f1_train = f1_score(y_train, y_hat_train)\n",
    "f1_test = f1_score(y_test, y_hat_test)\n",
    "\n",
    "print(f1_train)\n",
    "print(f1_test)"
   ]
  },
  {
   "cell_type": "code",
   "execution_count": 35,
   "metadata": {},
   "outputs": [
    {
     "name": "stdout",
     "output_type": "stream",
     "text": [
      "              precision    recall  f1-score   support\n",
      "\n",
      "           0       0.81      0.97      0.88     17496\n",
      "           1       0.67      0.20      0.31      5004\n",
      "\n",
      "    accuracy                           0.80     22500\n",
      "   macro avg       0.74      0.58      0.59     22500\n",
      "weighted avg       0.78      0.80      0.75     22500\n",
      "\n",
      "              precision    recall  f1-score   support\n",
      "\n",
      "           0       0.82      0.98      0.89      5868\n",
      "           1       0.71      0.21      0.32      1632\n",
      "\n",
      "    accuracy                           0.81      7500\n",
      "   macro avg       0.76      0.59      0.61      7500\n",
      "weighted avg       0.79      0.81      0.77      7500\n",
      "\n"
     ]
    }
   ],
   "source": [
    "#Put it all together: print classification reports\n",
    "\n",
    "print(classification_report(y_train, y_hat_train))\n",
    "print(classification_report(y_test, y_hat_test))"
   ]
  },
  {
   "cell_type": "markdown",
   "metadata": {},
   "source": [
    "### 3. KNN Model"
   ]
  },
  {
   "cell_type": "code",
   "execution_count": 36,
   "metadata": {},
   "outputs": [],
   "source": [
    "#Set X and Y\n",
    "y = dummy_dataframe['default_payment_next_month']\n",
    "X = dummy_dataframe.drop(columns=['default_payment_next_month'], axis=1)"
   ]
  },
  {
   "cell_type": "code",
   "execution_count": 37,
   "metadata": {},
   "outputs": [],
   "source": [
    "#Train test split, then Scale and Transform \n",
    "\n",
    "X_train, X_test, y_train, y_test = train_test_split(X, y, test_size=0.2, random_state=1)\n",
    "scaler = StandardScaler()  \n",
    "scaler.fit(X_train)\n",
    "\n",
    "X_train = scaler.transform(X_train)  \n",
    "X_test = scaler.transform(X_test) "
   ]
  },
  {
   "cell_type": "code",
   "execution_count": 40,
   "metadata": {},
   "outputs": [],
   "source": [
    "#Fit and predict the model\n",
    "\n",
    "model = KNeighborsClassifier(n_neighbors=1)\n",
    "model.fit(X_train, y_train)\n",
    "\n",
    "y_predict_test = model.predict(X_test)\n",
    "y_predict_train = model.predict(X_train)"
   ]
  },
  {
   "cell_type": "code",
   "execution_count": 41,
   "metadata": {},
   "outputs": [
    {
     "name": "stdout",
     "output_type": "stream",
     "text": [
      "              precision    recall  f1-score   support\n",
      "\n",
      "           0       1.00      1.00      1.00     18701\n",
      "           1       1.00      1.00      1.00      5299\n",
      "\n",
      "    accuracy                           1.00     24000\n",
      "   macro avg       1.00      1.00      1.00     24000\n",
      "weighted avg       1.00      1.00      1.00     24000\n",
      "\n",
      "              precision    recall  f1-score   support\n",
      "\n",
      "           0       0.82      0.82      0.82      4663\n",
      "           1       0.38      0.38      0.38      1337\n",
      "\n",
      "    accuracy                           0.72      6000\n",
      "   macro avg       0.60      0.60      0.60      6000\n",
      "weighted avg       0.72      0.72      0.72      6000\n",
      "\n"
     ]
    }
   ],
   "source": [
    "#Print classification report \n",
    "print(classification_report(y_train, y_predict_train))\n",
    "print(classification_report(y_test, y_predict_test))"
   ]
  },
  {
   "cell_type": "markdown",
   "metadata": {},
   "source": [
    "#### Hypertuning to find optimal value of K "
   ]
  },
  {
   "cell_type": "code",
   "execution_count": 42,
   "metadata": {},
   "outputs": [],
   "source": [
    "#Define function \n",
    "def find_best_k(X_train, y_train, X_test, y_test, min_k=1, max_k=35):\n",
    "    best_k = 0\n",
    "    best_score = 0.0\n",
    "    for k in range(min_k, max_k+1, 2):\n",
    "        knn = KNeighborsClassifier(n_neighbors=k)\n",
    "        knn.fit(X_train, y_train)\n",
    "        preds = knn.predict(X_test)\n",
    "        f1 = f1_score(y_test, preds)\n",
    "        if f1 > best_score:\n",
    "            best_k = k\n",
    "            best_score = f1\n",
    "    \n",
    "    print(\"Best Value for k: {}\".format(best_k))\n",
    "    print(\"F1-Score: {}\".format(best_score))"
   ]
  },
  {
   "cell_type": "code",
   "execution_count": 43,
   "metadata": {},
   "outputs": [
    {
     "name": "stdout",
     "output_type": "stream",
     "text": [
      "Best Value for k: 19\n",
      "F1-Score: 0.4384537131230926\n"
     ]
    }
   ],
   "source": [
    "#Find optimal K for our dataset \n",
    "find_best_k(X_train, y_train, X_test, y_test)\n"
   ]
  },
  {
   "cell_type": "code",
   "execution_count": 44,
   "metadata": {},
   "outputs": [
    {
     "name": "stdout",
     "output_type": "stream",
     "text": [
      "              precision    recall  f1-score   support\n",
      "\n",
      "           0       0.84      0.96      0.89     18701\n",
      "           1       0.70      0.34      0.46      5299\n",
      "\n",
      "    accuracy                           0.82     24000\n",
      "   macro avg       0.77      0.65      0.68     24000\n",
      "weighted avg       0.81      0.82      0.80     24000\n",
      "\n",
      "              precision    recall  f1-score   support\n",
      "\n",
      "           0       0.83      0.96      0.89      4663\n",
      "           1       0.69      0.32      0.44      1337\n",
      "\n",
      "    accuracy                           0.82      6000\n",
      "   macro avg       0.76      0.64      0.66      6000\n",
      "weighted avg       0.80      0.82      0.79      6000\n",
      "\n"
     ]
    }
   ],
   "source": [
    "#redo model fit with K=19 \n",
    "\n",
    "model = KNeighborsClassifier(n_neighbors=19)\n",
    "model.fit(X_train, y_train)\n",
    "\n",
    "y_predict_test = model.predict(X_test)\n",
    "y_predict_train = model.predict(X_train)\n",
    "\n",
    "print(classification_report(y_train, y_predict_train))\n",
    "print(classification_report(y_test, y_predict_test))"
   ]
  },
  {
   "cell_type": "markdown",
   "metadata": {},
   "source": [
    "### 4. Bayes Classification Model"
   ]
  },
  {
   "cell_type": "code",
   "execution_count": null,
   "metadata": {},
   "outputs": [],
   "source": []
  }
 ],
 "metadata": {
  "kernelspec": {
   "display_name": "learn-env",
   "language": "python",
   "name": "learn-env"
  },
  "language_info": {
   "codemirror_mode": {
    "name": "ipython",
    "version": 3
   },
   "file_extension": ".py",
   "mimetype": "text/x-python",
   "name": "python",
   "nbconvert_exporter": "python",
   "pygments_lexer": "ipython3",
   "version": "3.6.9"
  }
 },
 "nbformat": 4,
 "nbformat_minor": 4
}
